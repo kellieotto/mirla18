{
 "cells": [
  {
   "cell_type": "markdown",
   "metadata": {},
   "source": [
    "# Tools for SUITE Risk-Limiting Election Audits\n",
    "\n",
    "This Jupyter notebook implements some tools to conduct \"hybrid\" stratified risk-limiting audits as described in Risk-Limiting Audits by Stratified Union-Intersection Tests of Elections (SUITE), by Ottoboni, Stark, Lindeman, and McBurnett.\n",
    "\n",
    "For an implementation of tools for \"comparison\" risk-limiting audits as described in AGI, see http://statistics.berkeley.edu/~stark/Vote/auditTools.htm. For the sister ballot polling tool, see https://www.stat.berkeley.edu/~stark/Vote/ballotPollTools.htm.\n",
    "\n",
    "The tools on this page help perform the following steps:\n",
    "\n",
    "* Choose a number of ballots to audit in each stratum initially, on the assumption that the contest outcome is correct.\n",
    "* Select random samples of ballots in each stratum.\n",
    "* Find those ballots using ballot manifests.\n",
    "* Determine whether the audit can stop, given the votes on the ballots in the sample. \n",
    "* If the audit cannot stop yet, estimate how many additional ballots will need to be audited.\n",
    "\n",
    "This notebook is already filled out with an example election. It can be run from start to finish to demonstrate how the tool works. The numbers in the example can be deleted and replaced with actual data for an audit."
   ]
  },
  {
   "cell_type": "markdown",
   "metadata": {},
   "source": [
    "## Introduction to Jupyter Notebooks\n",
    "\n",
    "We leave [a comprehensive introduction to the Jupyter notebook](https://jupyter-notebook.readthedocs.io/en/stable/notebook.html) to the experts, but below are a few features you should know to use this tool:\n",
    "\n",
    "* notebooks are comprised of _cells_, blocks of code that can be run together. To the left of a code cell, you will see either [] (indicating that it has not been run yet) or [x] (where x is a number indicating that it was the xth cell to be run). You can the code in a cell by clicking into the cell, indicated by a green box around the cell, and running `Ctrl + Enter`.\n",
    "* code lines that begin with `#` are comments. They're not actually run, but are there to describe what the code is doing.\n",
    "* the text in a notebook is also written in a cell. Instead of a code cell, it's a Markdown cell. Clicking on a text cell will make it editable; running `Ctrl + Enter` will render it back into text.\n",
    "* the order in which cells are executed matters. Code in later cells depends on earlier cells. However, it is _possible_ to run cells out of order or rerun cells that have been run earlier; this can cause problem. In general, it is __best practice__ to rerun the entire notebook after you have filled in the values you want. To do so, click on the `Kernel` menu at the top of the page and select `Restart & Run All`. This will clear the memory and rerun everything in the prescribed order.\n",
    "\n",
    "\n",
    "The following cell imports all the necessary functionality from packages."
   ]
  },
  {
   "cell_type": "code",
   "execution_count": 1,
   "metadata": {},
   "outputs": [],
   "source": [
    "from __future__ import print_function\n",
    "\n",
    "from ipywidgets import interact, interactive, fixed, interact_manual\n",
    "import ipywidgets as widgets\n",
    "from IPython.display import display, HTML\n",
    "\n",
    "from collections import OrderedDict\n",
    "from itertools import product\n",
    "import math\n",
    "import json\n",
    "import pprint\n",
    "\n",
    "import numpy as np\n",
    "from ballot_comparison import ballot_comparison_pvalue\n",
    "from fishers_combination import  maximize_fisher_combined_pvalue, create_modulus\n",
    "from sprt import ballot_polling_sprt\n",
    "\n",
    "from cryptorandom.cryptorandom import SHA256\n",
    "from cryptorandom.sample import random_sample\n",
    "\n",
    "from suite_tools import write_audit_parameters, write_audit_results, \\\n",
    "        check_valid_audit_parameters, check_valid_vote_counts, \\\n",
    "        check_overvote_rates, find_winners_losers, print_reported_votes, \\\n",
    "        estimate_n, estimate_escalation_n, \\\n",
    "        sample_from_manifest, write_ballots_to_sample, \\\n",
    "        audit_contest, check_polling_sample_size, plot_nratio_sample_sizes\n",
    "    \n",
    "import warnings\n",
    "warnings.filterwarnings(\"ignore\")"
   ]
  },
  {
   "cell_type": "markdown",
   "metadata": {},
   "source": [
    "# Input the global audit parameters.\n",
    "\n",
    "For an audit, you should input the following global parameters in the cell below:\n",
    "\n",
    "* contest-specific parameters:\n",
    "    * `risk_limit`: the risk limit for the audit\n",
    "    * `stratum_sizes`: total ballots in the two strata, [CVR total, no-CVR total]\n",
    "    * `num_winners`: number of winners in the contest\n",
    "* software parameters:\n",
    "    * `seed`: the numeric seed for the pseudo-random number generator used to draw samples of ballots. Use, e.g., 20 rolls of a 10-sided die \n",
    "    * `gamma`: the gamma parameter used in the ballot-polling method from Lindeman and Stark (2012). Default value of 1.03905 is generally accepted\n",
    "    * `lambda_step`: the initial step size in the grid search over the way error is allocated across the CVR and no-CVR strata in SUITE. Default 0.05 is acceptable\n",
    "* initial sample size estimate parameters:\n",
    "    * `o1_rate`: expected rate of 1-vote overstatements in the CVR stratum\n",
    "    * `o2_rate`: expected rate of 2-vote overstatements in the CVR stratum\n",
    "    * `u1_rate`: expected rate of 1-vote understatements in the CVR stratum\n",
    "    * `u2_rate`: expected rate of 2-vote understatements in the CVR stratum\n",
    "    * `n_ratio`: what fraction of the sample is taken from the CVR stratum. Default is to allocate sample in proportion to ballots cast in each stratum.\n",
    "    \n"
   ]
  },
  {
   "cell_type": "code",
   "execution_count": 8,
   "metadata": {},
   "outputs": [],
   "source": [
    "# contest-specific parameters\n",
    "risk_limit = 0.09    # risk limit\n",
    "#stratum_sizes = [10619, 10709]\n",
    "stratum_sizes = [0, 10619+ 10709]\n",
    "num_winners = 1      # maximum number of winners, per social choice function"
   ]
  },
  {
   "cell_type": "code",
   "execution_count": 3,
   "metadata": {},
   "outputs": [],
   "source": [
    "# software parameters\n",
    "seed = 49228331723515618585  # use, e.g., 20 rolls of a 10-sided die\n",
    "gamma=1.03905         # gamma from Lindeman and Stark (2012)\n",
    "lambda_step = 0.05    # stepsize for the discrete bounds on Fisher's combining function"
   ]
  },
  {
   "cell_type": "code",
   "execution_count": 4,
   "metadata": {},
   "outputs": [],
   "source": [
    "# initial sample size parameters\n",
    "o1_rate = 0.002       # expect 2 1-vote overstatements per 1000 ballots in the CVR stratum\n",
    "o2_rate = 0           # expect 0 2-vote overstatements\n",
    "u1_rate = 0           # expect 0 1-vote understatements\n",
    "u2_rate = 0           # expect 0 2-vote understatements\n",
    "n_ratio = stratum_sizes[0]/np.sum(stratum_sizes) \n",
    "                     # allocate sample in proportion to ballots cast in each stratum"
   ]
  },
  {
   "cell_type": "code",
   "execution_count": 5,
   "metadata": {},
   "outputs": [],
   "source": [
    "check_valid_audit_parameters(risk_limit, lambda_step, o1_rate, o2_rate, \\\n",
    "                                 u1_rate, u2_rate, stratum_sizes, n_ratio, num_winners)"
   ]
  },
  {
   "cell_type": "markdown",
   "metadata": {},
   "source": [
    "The next cell saves the input parameters to a JSON file. You may change the file name in quotes but do not change the rest of the code."
   ]
  },
  {
   "cell_type": "code",
   "execution_count": 6,
   "metadata": {},
   "outputs": [],
   "source": [
    "write_audit_parameters(\"../log/lansing_audit_parameters.json\",\\\n",
    "                       risk_limit, stratum_sizes, num_winners, seed, gamma, \\\n",
    "                       lambda_step, o1_rate, o2_rate, \\\n",
    "                       u1_rate, u2_rate, n_ratio)"
   ]
  },
  {
   "cell_type": "markdown",
   "metadata": {},
   "source": [
    "# Enter the reported votes\n",
    "\n",
    "Candidates are stored in a data structure called a dictionary. Enter the candidate name and the votes in each stratum, [votes in CVR stratum, votes in no-CVR stratum], in the cell below. The following cell will calculate the vote totals, margins, winners, and losers."
   ]
  },
  {
   "cell_type": "code",
   "execution_count": 9,
   "metadata": {},
   "outputs": [],
   "source": [
    "# input number of winners\n",
    "# input names as well as reported votes in each stratum\n",
    "\n",
    "# candidates are a dict with name, [votes in CVR stratum, votes in no-CVR stratum]\n",
    "\n",
    "#candidates = {\"Neal\" : [3925, 3769],\n",
    "#              \"Ward\": [5257, 5052]}\n",
    "candidates = {\"Neal\" : [0, 3925+3769],\n",
    "              \"Ward\": [0, 5257+ 5052]}\n",
    "\n",
    "# Run validity check on the input vote totals\n",
    "check_valid_vote_counts(candidates, num_winners, stratum_sizes)"
   ]
  },
  {
   "cell_type": "code",
   "execution_count": 10,
   "metadata": {},
   "outputs": [],
   "source": [
    "# compute reported winners, losers, and pairwise margins. Nothing should be printed.\n",
    "(candidates, margins, winners, losers) = find_winners_losers(candidates, num_winners)\n",
    "  \n",
    "# Check that overstatement rates are compatible with the reported results\n",
    "check_overvote_rates(margins=margins, total_votes=sum(stratum_sizes), \n",
    "                     o1_rate=o1_rate, o2_rate=o2_rate)"
   ]
  },
  {
   "cell_type": "code",
   "execution_count": 11,
   "metadata": {},
   "outputs": [
    {
     "name": "stdout",
     "output_type": "stream",
     "text": [
      "\n",
      "Total reported votes:\n",
      "\t\t\tCVR\tno-CVR\ttotal\t% of all votes\t% of valid votes\n",
      "\t Ward : 0 \t 10309 \t 10309 \t 48.34% \t 57.26%\n",
      "\t Neal : 0 \t 7694 \t 7694 \t 36.07% \t 42.74%\n",
      "\n",
      "\t valid votes:\t 0 \t 18003 \t 18003 \t 84.41%\n",
      "\n",
      "\t non-votes:\t 0 \t 3325 \t 3325 \t 15.59%\n",
      "\n",
      "Reported winners:\n",
      "\t Ward\n",
      "\n",
      "Reported losers:\n",
      "\t Neal\n",
      "\n",
      "\n",
      "Reported margins:\n",
      "\t Ward beat Neal by 2,615 votes\n",
      "\n",
      "Smallest reported margin: 2,615 \n",
      "Corresponding reported diluted margin: 12.26%\n"
     ]
    }
   ],
   "source": [
    "# print reported winners, losers, and pairwise margins\n",
    "print_reported_votes(candidates, winners, losers, margins, stratum_sizes,\\\n",
    "                     print_alphabetical=False)"
   ]
  },
  {
   "cell_type": "markdown",
   "metadata": {},
   "source": [
    "# Initial sample size estimates.\n",
    "\n",
    "The initial sample size tool helps you anticipate the number of randomly selected ballots that might need to be inspected to attain a given limit on the risk, under the assumption that the reported percentages for each candidate are correct. \n",
    "\n",
    "It is completely legitimate to sample one at a time and rerun the SUITE calculations, but this form can help auditors anticipate how many ballots the audit is likely to require and to retrieve ballots more efficiently.\n",
    "\n",
    "This code will estimate the sample size needed to attain the desired risk limit in an audit of the contest between each pair of winning and losing candidates. The overall sample size will be allocated to the CVR stratum in `n_ratio` proportion and to the no-CVR stratum in `1-n_ratio` proportion. The sample size estimates for each pair will be printed below. The expected sample size needed for the audit is the _maximum_ of the sample sizes for each winner, loser pair: the sample must be large enough to confirm the closest margin.\n",
    "\n",
    "Taking a larger initial sample can avoid needing to expand the sample later, depending on the rate of ballots for each candidate in the sample. Avoiding \"escalation\" can make the audit less complicated.\n"
   ]
  },
  {
   "cell_type": "code",
   "execution_count": 11,
   "metadata": {},
   "outputs": [],
   "source": [
    "# Calculate expected sample size across (winner, loser) pairs\n",
    "\n",
    "sample_sizes = {}\n",
    "\n",
    "for k in product(winners, losers):\n",
    "    sample_sizes[k] = estimate_n(N_w1 = candidates[k[0]][0],\\\n",
    "                                 N_w2 = candidates[k[0]][1],\\\n",
    "                                 N_l1 = candidates[k[1]][0],\\\n",
    "                                 N_l2 = candidates[k[1]][1],\\\n",
    "                                 N1 = stratum_sizes[0],\\\n",
    "                                 N2 = stratum_sizes[1],\\\n",
    "                                 o1_rate = o1_rate,\\\n",
    "                                 o2_rate = o2_rate,\\\n",
    "                                 u1_rate = u1_rate,\\\n",
    "                                 u2_rate = u2_rate,\\\n",
    "                                 n_ratio = n_ratio,\\\n",
    "                                 risk_limit = 0.09,\\\n",
    "                                 gamma = gamma,\\\n",
    "                                 stepsize = lambda_step,\\\n",
    "                                 min_n = 5,\\\n",
    "                                 risk_limit_tol = 0.8)"
   ]
  },
  {
   "cell_type": "code",
   "execution_count": 12,
   "metadata": {
    "scrolled": true
   },
   "outputs": [
    {
     "name": "stdout",
     "output_type": "stream",
     "text": [
      "estimated sample sizes for each contest, written as (cvr stratum, no-cvr stratum):\n",
      "\n",
      "{('Ward', 'Neal'): (130, 130)}\n",
      "\n",
      "\n",
      "expected total sample size needed to confirm all pairs: 260\n"
     ]
    }
   ],
   "source": [
    "sample_size = np.amax([v[0]+v[1] for v in sample_sizes.values()])\n",
    "\n",
    "print(\"estimated sample sizes for each contest, written as (cvr stratum, no-cvr stratum):\\n\")\n",
    "pprint.pprint(sample_sizes)\n",
    "print('\\n\\nexpected total sample size needed to confirm all pairs:', sample_size)"
   ]
  },
  {
   "cell_type": "code",
   "execution_count": 13,
   "metadata": {},
   "outputs": [
    {
     "name": "stdout",
     "output_type": "stream",
     "text": [
      "\n",
      "\n",
      "expected minimum sample size that would be needed using ballot polling ONLY, for all ballots: 285\n"
     ]
    }
   ],
   "source": [
    "check_polling_sample_size(candidates, winners, losers, stratum_sizes, risk_limit)"
   ]
  },
  {
   "cell_type": "code",
   "execution_count": null,
   "metadata": {},
   "outputs": [],
   "source": [
    "# Run this cell to plot the total size as a function of n_ratio\n",
    "\n",
    "#plot_nratio_sample_sizes(candidates, winners, losers, stratum_sizes, n_ratio_step=0.05, o1_rate=o1_rate)"
   ]
  },
  {
   "cell_type": "markdown",
   "metadata": {},
   "source": [
    "# Random sampling"
   ]
  },
  {
   "cell_type": "markdown",
   "metadata": {},
   "source": [
    "The next tool helps generate pseudo-random samples of ballots in each stratum. Further below, there is a form to help find the individual, randomly selected ballots among the batches in which ballots are stored.\n",
    "\n",
    "The first cell below initializes the SHA-256 cryptographically secure pseudo-random number generator. Details on why you might want to use this pseudo-random number generator instead of the Python default can be found in [Stark and Ottoboni (2018)](https://arxiv.org/abs/1810.10985). \n",
    "\n",
    "Input your desired sample sizes in the second cell below. Input the number of ballots you want in the sample. The default values that are pre-filled are taken from the initial sample size estimates above. \n",
    "\n",
    "The third cell should not be modified. It draws the samples from each stratum, using sampling _with_ replacement for the CVR stratum and sampling _without_ replacement for the no-CVR stratum. This means that some ballots in the CVR stratum could be sampled more than once.\n",
    "\n",
    "\n",
    "**NOTE:**\n",
    "If this section is giving errors, you probably need to update your version of `cryptorandom`.\n",
    "\n",
    "```\n",
    "pip install [--update] cryptorandom\n",
    "```"
   ]
  },
  {
   "cell_type": "code",
   "execution_count": 13,
   "metadata": {
    "collapsed": true
   },
   "outputs": [],
   "source": [
    "# initialize the PRNG\n",
    "prng = SHA256(seed)   "
   ]
  },
  {
   "cell_type": "code",
   "execution_count": 14,
   "metadata": {
    "collapsed": true
   },
   "outputs": [],
   "source": [
    "# Input the sample sizes for each stratum. \n",
    "# Defaults to those found using the initial sample size tool above.\n",
    "n1 = math.ceil(sample_size*n_ratio)    \n",
    "n2 = sample_size-n1"
   ]
  },
  {
   "cell_type": "code",
   "execution_count": 15,
   "metadata": {
    "collapsed": true
   },
   "outputs": [],
   "source": [
    "# CVR stratum initial sample size, sampled with replacement\n",
    "sample1 = prng.randint(1, stratum_sizes[0]+1, size=n1)\n",
    "\n",
    "# No-CVR ballots are sampled without replacement\n",
    "sample2 = random_sample(stratum_sizes[1], size=n2, replace=False, prng=prng)"
   ]
  },
  {
   "cell_type": "markdown",
   "metadata": {},
   "source": [
    "### CVR stratum sample"
   ]
  },
  {
   "cell_type": "code",
   "execution_count": null,
   "metadata": {},
   "outputs": [],
   "source": [
    "print(\"CVR stratum sample:\\n\", sample1)"
   ]
  },
  {
   "cell_type": "code",
   "execution_count": null,
   "metadata": {},
   "outputs": [],
   "source": [
    "m = np.zeros_like(sample1, dtype=bool)\n",
    "m[np.unique(sample1, return_index=True)[1]] = True\n",
    "print(\"CVR stratum repeated ballots:\\n\", sample1[~m])"
   ]
  },
  {
   "cell_type": "markdown",
   "metadata": {},
   "source": [
    "### No-CVR sample"
   ]
  },
  {
   "cell_type": "code",
   "execution_count": null,
   "metadata": {},
   "outputs": [],
   "source": [
    "print(\"No-CVR stratum sample:\\n\", sample2)"
   ]
  },
  {
   "cell_type": "markdown",
   "metadata": {},
   "source": [
    "# Find ballots using ballot manifest\n",
    "\n",
    "Generally, ballots will be stored in batches, for instance, separated by precinct and mode of voting. To make it easier to find individual ballots, it helps to have a ballot manifest that describes how the ballots are stored. \n",
    "\n",
    "\n",
    "Batch label\t| ballots\n",
    "--- |  ---\n",
    "Polling place precinct 1  |\t130\n",
    "Vote by mail precinct 1\t  | 172\n",
    "Polling place precinct 2  | 112\n",
    "Vote by mail precinct 2\t  | 201\n",
    "Polling place precinct 3  | 197\n",
    "Vote by mail precinct 3   | 188\n",
    "\n",
    "If ballot 500 is selected for audit, which ballot is that? If we take the listing of batches in the order given by the manifest, and we require that within each batch, the ballots are in an order that does not change during the audit, then the 500th ballot is the 86th ballot among the vote by mail ballots for precinct 2: The first three batches have a total of 130+172+112 = 414 ballots. The first ballot in the fourth batch is ballot 415. Ballot 500 is the 86th ballot in the fourth batch. The ballot look-up tool transforms a list of ballot numbers and a ballot manifest into a list of ballots in each batch.\n",
    "\n",
    "There must be separate ballot manifests for ballots in the CVR stratum and for ballots in the no-CVR stratum. The manifests should be input as a CSV file with three columns: Batch ID, Scanner ID, and number of ballots.\n",
    "\n",
    "The total number of ballots in the manifest must equal the number cast in the contest that is to be audited using the sample."
   ]
  },
  {
   "cell_type": "code",
   "execution_count": 16,
   "metadata": {},
   "outputs": [],
   "source": [
    "cvr_sample =  sample_from_manifest(filename=\"../data/City of Lansing Ballot Manifest - Absentee - less 45.csv\", \\\n",
    "                                   sample=sample1, \\\n",
    "                                   stratum_size=stratum_sizes[0])\n"
   ]
  },
  {
   "cell_type": "code",
   "execution_count": 17,
   "metadata": {},
   "outputs": [
    {
     "name": "stdout",
     "output_type": "stream",
     "text": [
      "succesfully wrote sampled ballots to ../log/Lansing-sampled-absentee.csv\n"
     ]
    }
   ],
   "source": [
    "write_ballots_to_sample(\"../log/Lansing-sampled-absentee.csv\", cvr_sample)"
   ]
  },
  {
   "cell_type": "code",
   "execution_count": 18,
   "metadata": {},
   "outputs": [
    {
     "name": "stdout",
     "output_type": "stream",
     "text": [
      "CVR sample\n"
     ]
    },
    {
     "data": {
      "text/html": [
       "<table><tr><td>sampled ballot</td><td>batch label</td><td>which ballot in batch</td><td># times sampled</td></tr><tr><td>28</td><td>Precinct 1-10</td><td>28</td><td>1</td></tr><tr><td>37</td><td>Precinct 1-10</td><td>37</td><td>1</td></tr><tr><td>99</td><td>Precinct 1-10</td><td>99</td><td>1</td></tr><tr><td>1820</td><td>Precinct 10-14</td><td>28</td><td>1</td></tr><tr><td>1845</td><td>Precinct 10-14</td><td>53</td><td>1</td></tr><tr><td>1867</td><td>Precinct 10-14</td><td>75</td><td>1</td></tr><tr><td>1917</td><td>Precinct 11-38</td><td>34</td><td>1</td></tr><tr><td>1974</td><td>Precinct 11-38</td><td>91</td><td>1</td></tr><tr><td>2054</td><td>Precinct 11-38</td><td>171</td><td>1</td></tr><tr><td>2121</td><td>Precinct 11-90</td><td>2</td><td>1</td></tr><tr><td>2164</td><td>Precinct 12-54</td><td>28</td><td>1</td></tr><tr><td>2230</td><td>Precinct 12-54</td><td>94</td><td>1</td></tr><tr><td>2328</td><td>Precinct 12-54</td><td>192</td><td>1</td></tr><tr><td>2487</td><td>Precinct 13-52</td><td>89</td><td>1</td></tr><tr><td>2582</td><td>Precinct 13-52</td><td>184</td><td>1</td></tr><tr><td>2715</td><td>Precinct 14-60</td><td>22</td><td>1</td></tr><tr><td>2807</td><td>Precinct 14-60</td><td>114</td><td>1</td></tr><tr><td>2913</td><td>Precinct 14-60</td><td>220</td><td>1</td></tr><tr><td>2986</td><td>Precinct 14-60</td><td>293</td><td>1</td></tr><tr><td>3120</td><td>Precinct 15-7</td><td>32</td><td>1</td></tr><tr><td>3186</td><td>Precinct 15-7</td><td>98</td><td>1</td></tr><tr><td>3198</td><td>Precinct 15-7</td><td>110</td><td>1</td></tr><tr><td>3241</td><td>Precinct 15-7</td><td>153</td><td>1</td></tr><tr><td>3265</td><td>Precinct 15-7</td><td>177</td><td>1</td></tr><tr><td>3332</td><td>Precinct 15-7</td><td>244</td><td>1</td></tr><tr><td>3378</td><td>Precinct 16-8</td><td>31</td><td>1</td></tr><tr><td>3379</td><td>Precinct 16-8</td><td>32</td><td>1</td></tr><tr><td>3535</td><td>Precinct 17-34</td><td>54</td><td>1</td></tr><tr><td>3561</td><td>Precinct 17-34</td><td>80</td><td>1</td></tr><tr><td>3637</td><td>Precinct 17-34</td><td>156</td><td>1</td></tr><tr><td>3738</td><td>Precinct 18-53</td><td>52</td><td>1</td></tr><tr><td>4007</td><td>Precinct 19-49</td><td>216</td><td>1</td></tr><tr><td>252</td><td>Precinct 2-17</td><td>27</td><td>1</td></tr><tr><td>255</td><td>Precinct 2-17</td><td>30</td><td>1</td></tr><tr><td>277</td><td>Precinct 2-17</td><td>52</td><td>1</td></tr><tr><td>9641</td><td>Precinct 20H-5</td><td>25</td><td>1</td></tr><tr><td>4092</td><td>Precinct 21-56</td><td>6</td><td>1</td></tr><tr><td>4124</td><td>Precinct 21-56</td><td>38</td><td>1</td></tr><tr><td>4385</td><td>Precinct 21-56</td><td>299</td><td>1</td></tr><tr><td>9900</td><td>Precinct 22H-18</td><td>33</td><td>1</td></tr><tr><td>4436</td><td>Precinct 23-48</td><td>4</td><td>1</td></tr><tr><td>4442</td><td>Precinct 23-48</td><td>10</td><td>1</td></tr><tr><td>4546</td><td>Precinct 23-48</td><td>114</td><td>1</td></tr><tr><td>4607</td><td>Precinct 23-48</td><td>175</td><td>1</td></tr><tr><td>4622</td><td>Precinct 23-48</td><td>190</td><td>1</td></tr><tr><td>4710</td><td>Precinct 24-58</td><td>28</td><td>1</td></tr><tr><td>4719</td><td>Precinct 24-58</td><td>37</td><td>1</td></tr><tr><td>4813</td><td>Precinct 24-58</td><td>131</td><td>1</td></tr><tr><td>4876</td><td>Precinct 24-58</td><td>194</td><td>3</td></tr><tr><td>4927</td><td>Precinct 24-58</td><td>245</td><td>1</td></tr><tr><td>4930</td><td>Precinct 24-58</td><td>248</td><td>1</td></tr><tr><td>4967</td><td>Precinct 25-21</td><td>2</td><td>1</td></tr><tr><td>4983</td><td>Precinct 25-21</td><td>18</td><td>1</td></tr><tr><td>5090</td><td>Precinct 25-21</td><td>125</td><td>1</td></tr><tr><td>5157</td><td>Precinct 25-21</td><td>192</td><td>1</td></tr><tr><td>5200</td><td>Precinct 26-39</td><td>6</td><td>1</td></tr><tr><td>5242</td><td>Precinct 26-39</td><td>48</td><td>1</td></tr><tr><td>5388</td><td>Precinct 26-39</td><td>194</td><td>1</td></tr><tr><td>5511</td><td>Precinct 27-55</td><td>67</td><td>1</td></tr><tr><td>5600</td><td>Precinct 27-55</td><td>156</td><td>1</td></tr><tr><td>10006</td><td>Precinct 28B-12</td><td>45</td><td>1</td></tr><tr><td>10094</td><td>Precinct 28B-12</td><td>133</td><td>1</td></tr><tr><td>10138</td><td>Precinct 28B-12</td><td>177</td><td>1</td></tr><tr><td>10155</td><td>Precinct 28B-12</td><td>194</td><td>1</td></tr><tr><td>5802</td><td>Precinct 29-63</td><td>122</td><td>1</td></tr><tr><td>5812</td><td>Precinct 29-63</td><td>132</td><td>1</td></tr><tr><td>5928</td><td>Precinct 29-63</td><td>248</td><td>1</td></tr><tr><td>6009</td><td>Precinct 29-63</td><td>329</td><td>1</td></tr><tr><td>413</td><td>Precinct 3-57</td><td>48</td><td>1</td></tr><tr><td>446</td><td>Precinct 3-57</td><td>81</td><td>1</td></tr><tr><td>585</td><td>Precinct 3-57</td><td>220</td><td>1</td></tr><tr><td>6126</td><td>Precinct 30-61</td><td>50</td><td>1</td></tr><tr><td>6192</td><td>Precinct 30-61</td><td>116</td><td>1</td></tr><tr><td>6199</td><td>Precinct 30-61</td><td>123</td><td>1</td></tr><tr><td>6225</td><td>Precinct 30-61</td><td>149</td><td>1</td></tr><tr><td>6455</td><td>Precinct 30-61</td><td>379</td><td>1</td></tr><tr><td>6761</td><td>Precinct 31-59</td><td>274</td><td>1</td></tr><tr><td>6793</td><td>Precinct 31-59</td><td>306</td><td>1</td></tr><tr><td>6819</td><td>Precinct 31-59</td><td>332</td><td>1</td></tr><tr><td>6846</td><td>Precinct 31-59</td><td>359</td><td>1</td></tr><tr><td>6963</td><td>Precinct 31-59</td><td>476</td><td>1</td></tr><tr><td>6981</td><td>Precinct 31-59</td><td>494</td><td>1</td></tr><tr><td>6985</td><td>Precinct 31-59</td><td>498</td><td>1</td></tr><tr><td>6998</td><td>Precinct 31-59</td><td>511</td><td>1</td></tr><tr><td>7180</td><td>Precinct 32-51</td><td>163</td><td>1</td></tr><tr><td>7438</td><td>Precinct 33-19</td><td>116</td><td>1</td></tr><tr><td>7507</td><td>Precinct 33-19</td><td>185</td><td>1</td></tr><tr><td>7568</td><td>Precinct 33-19</td><td>246</td><td>1</td></tr><tr><td>7569</td><td>Precinct 33-19</td><td>247</td><td>1</td></tr><tr><td>7570</td><td>Precinct 33-19</td><td>248</td><td>1</td></tr><tr><td>7726</td><td>Precinct 34-29</td><td>59</td><td>1</td></tr><tr><td>7948</td><td>Precinct 35-15</td><td>133</td><td>1</td></tr><tr><td>8071</td><td>Precinct 36-50</td><td>24</td><td>1</td></tr><tr><td>8111</td><td>Precinct 36-50</td><td>64</td><td>1</td></tr><tr><td>8119</td><td>Precinct 36-50</td><td>72</td><td>1</td></tr><tr><td>8260</td><td>Precinct 36-50</td><td>213</td><td>1</td></tr><tr><td>8305</td><td>Precinct 37-23</td><td>16</td><td>1</td></tr><tr><td>8575</td><td>Precinct 38-40</td><td>22</td><td>1</td></tr><tr><td>8903</td><td>Precinct 39-16</td><td>125</td><td>1</td></tr><tr><td>8916</td><td>Precinct 39-16</td><td>138</td><td>1</td></tr><tr><td>734</td><td>Precinct 4-27</td><td>25</td><td>1</td></tr><tr><td>744</td><td>Precinct 4-27</td><td>35</td><td>1</td></tr><tr><td>761</td><td>Precinct 4-27</td><td>52</td><td>1</td></tr><tr><td>769</td><td>Precinct 4-27</td><td>60</td><td>1</td></tr><tr><td>8995</td><td>Precinct 40-24</td><td>59</td><td>1</td></tr><tr><td>9026</td><td>Precinct 40-24</td><td>90</td><td>1</td></tr><tr><td>10287</td><td>Precinct 41L-62</td><td>48</td><td>1</td></tr><tr><td>10310</td><td>Precinct 41L-62</td><td>71</td><td>1</td></tr><tr><td>10328</td><td>Precinct 41L-62</td><td>89</td><td>1</td></tr><tr><td>10339</td><td>Precinct 41L-62</td><td>100</td><td>1</td></tr><tr><td>10414</td><td>Precinct 41L-62</td><td>175</td><td>1</td></tr><tr><td>10437</td><td>Precinct 41L-62</td><td>198</td><td>1</td></tr><tr><td>10516</td><td>Precinct 41L-62</td><td>277</td><td>1</td></tr><tr><td>10550</td><td>Precinct 41L-62</td><td>311</td><td>1</td></tr><tr><td>10618</td><td>Precinct 41W-2</td><td>21</td><td>1</td></tr><tr><td>9102</td><td>Precinct 42-35</td><td>33</td><td>1</td></tr><tr><td>9215</td><td>Precinct 42-35</td><td>146</td><td>1</td></tr><tr><td>9321</td><td>Precinct 43-20</td><td>59</td><td>1</td></tr><tr><td>9353</td><td>Precinct 43-20</td><td>91</td><td>1</td></tr><tr><td>9361</td><td>Precinct 43-20</td><td>99</td><td>1</td></tr><tr><td>9467</td><td>Precinct 44-13</td><td>71</td><td>1</td></tr><tr><td>9480</td><td>Precinct 44-13</td><td>84</td><td>1</td></tr><tr><td>1025</td><td>Precinct 5-9</td><td>98</td><td>1</td></tr><tr><td>1122</td><td>Precinct 6-43</td><td>59</td><td>1</td></tr><tr><td>1226</td><td>Precinct 6-43</td><td>163</td><td>1</td></tr><tr><td>1450</td><td>Precinct 8-6</td><td>22</td><td>1</td></tr><tr><td>1491</td><td>Precinct 8-6</td><td>63</td><td>1</td></tr><tr><td>1750</td><td>Precinct 9-26</td><td>132</td><td>1</td></tr></table>"
      ],
      "text/plain": [
       "<IPython.core.display.HTML object>"
      ]
     },
     "metadata": {},
     "output_type": "display_data"
    }
   ],
   "source": [
    "print(\"CVR sample\")\n",
    "display(HTML(\n",
    "    '<table><tr>{}</tr></table>'.format(\n",
    "        '</tr><tr>'.join(\n",
    "            '<td>{}</td>'.format('</td><td>'.join(str(_) for _ in row)) for row in cvr_sample)\n",
    "        )\n",
    " ))"
   ]
  },
  {
   "cell_type": "code",
   "execution_count": 19,
   "metadata": {},
   "outputs": [],
   "source": [
    "nocvr_sample =  sample_from_manifest(filename=\"../data/City of Lansing Ballot Manifest - Election Day - 20 precincts only.csv\", \\\n",
    "                                   sample=sample2, \\\n",
    "                                   stratum_size=stratum_sizes[1])\n"
   ]
  },
  {
   "cell_type": "code",
   "execution_count": 20,
   "metadata": {},
   "outputs": [
    {
     "name": "stdout",
     "output_type": "stream",
     "text": [
      "succesfully wrote sampled ballots to ../log/Lansing-sampled-election-day.csv\n"
     ]
    }
   ],
   "source": [
    "write_ballots_to_sample(\"../log/Lansing-sampled-election-day.csv\", nocvr_sample)"
   ]
  },
  {
   "cell_type": "code",
   "execution_count": 21,
   "metadata": {
    "scrolled": true
   },
   "outputs": [
    {
     "name": "stdout",
     "output_type": "stream",
     "text": [
      "No CVR sample\n"
     ]
    },
    {
     "data": {
      "text/html": [
       "<table><tr><td>sampled ballot</td><td>batch label</td><td>which ballot in batch</td><td># times sampled</td></tr><tr><td>69</td><td>Ward 1 Precinct 1</td><td>69</td><td>1</td></tr><tr><td>91</td><td>Ward 1 Precinct 1</td><td>91</td><td>1</td></tr><tr><td>300</td><td>Ward 1 Precinct 1</td><td>300</td><td>1</td></tr><tr><td>307</td><td>Ward 1 Precinct 1</td><td>307</td><td>1</td></tr><tr><td>356</td><td>Ward 1 Precinct 1</td><td>356</td><td>1</td></tr><tr><td>377</td><td>Ward 1 Precinct 1</td><td>377</td><td>1</td></tr><tr><td>387</td><td>Ward 1 Precinct 1</td><td>387</td><td>1</td></tr><tr><td>408</td><td>Ward 1 Precinct 1</td><td>408</td><td>1</td></tr><tr><td>439</td><td>Ward 1 Precinct 1</td><td>439</td><td>1</td></tr><tr><td>562</td><td>Ward 1 Precinct 1</td><td>562</td><td>1</td></tr><tr><td>563</td><td>Ward 1 Precinct 1</td><td>563</td><td>1</td></tr><tr><td>666</td><td>Ward 1 Precinct 1</td><td>666</td><td>1</td></tr><tr><td>808</td><td>Ward 1 Precinct 1</td><td>808</td><td>1</td></tr><tr><td>815</td><td>Ward 1 Precinct 1</td><td>815</td><td>1</td></tr><tr><td>821</td><td>Ward 1 Precinct 1</td><td>821</td><td>1</td></tr><tr><td>855</td><td>Ward 1 Precinct 1</td><td>855</td><td>1</td></tr><tr><td>7121</td><td>Ward 1 Precinct 10</td><td>27</td><td>1</td></tr><tr><td>7162</td><td>Ward 1 Precinct 10</td><td>68</td><td>1</td></tr><tr><td>7229</td><td>Ward 1 Precinct 10</td><td>135</td><td>1</td></tr><tr><td>7287</td><td>Ward 1 Precinct 10</td><td>193</td><td>1</td></tr><tr><td>7314</td><td>Ward 1 Precinct 10</td><td>220</td><td>1</td></tr><tr><td>7341</td><td>Ward 1 Precinct 10</td><td>247</td><td>1</td></tr><tr><td>7410</td><td>Ward 1 Precinct 10</td><td>316</td><td>1</td></tr><tr><td>966</td><td>Ward 1 Precinct 2</td><td>56</td><td>1</td></tr><tr><td>1095</td><td>Ward 1 Precinct 2</td><td>185</td><td>1</td></tr><tr><td>1132</td><td>Ward 1 Precinct 2</td><td>222</td><td>1</td></tr><tr><td>1228</td><td>Ward 1 Precinct 2</td><td>318</td><td>1</td></tr><tr><td>1436</td><td>Ward 1 Precinct 2</td><td>526</td><td>1</td></tr><tr><td>1485</td><td>Ward 1 Precinct 2</td><td>575</td><td>1</td></tr><tr><td>1538</td><td>Ward 1 Precinct 2</td><td>628</td><td>1</td></tr><tr><td>1633</td><td>Ward 1 Precinct 2</td><td>723</td><td>1</td></tr><tr><td>1682</td><td>Ward 1 Precinct 2</td><td>772</td><td>1</td></tr><tr><td>1837</td><td>Ward 1 Precinct 3</td><td>94</td><td>1</td></tr><tr><td>1873</td><td>Ward 1 Precinct 3</td><td>130</td><td>1</td></tr><tr><td>1885</td><td>Ward 1 Precinct 3</td><td>142</td><td>1</td></tr><tr><td>2027</td><td>Ward 1 Precinct 3</td><td>284</td><td>1</td></tr><tr><td>2163</td><td>Ward 1 Precinct 3</td><td>420</td><td>1</td></tr><tr><td>2189</td><td>Ward 1 Precinct 3</td><td>446</td><td>1</td></tr><tr><td>2363</td><td>Ward 1 Precinct 3</td><td>620</td><td>1</td></tr><tr><td>2545</td><td>Ward 1 Precinct 4</td><td>66</td><td>1</td></tr><tr><td>2832</td><td>Ward 1 Precinct 4</td><td>353</td><td>1</td></tr><tr><td>2838</td><td>Ward 1 Precinct 4</td><td>359</td><td>1</td></tr><tr><td>3060</td><td>Ward 1 Precinct 4</td><td>581</td><td>1</td></tr><tr><td>3300</td><td>Ward 1 Precinct 5</td><td>21</td><td>1</td></tr><tr><td>3383</td><td>Ward 1 Precinct 5</td><td>104</td><td>1</td></tr><tr><td>3609</td><td>Ward 1 Precinct 5</td><td>330</td><td>1</td></tr><tr><td>3770</td><td>Ward 1 Precinct 5</td><td>491</td><td>1</td></tr><tr><td>3801</td><td>Ward 1 Precinct 5</td><td>522</td><td>1</td></tr><tr><td>3829</td><td>Ward 1 Precinct 5</td><td>550</td><td>1</td></tr><tr><td>3842</td><td>Ward 1 Precinct 5</td><td>563</td><td>1</td></tr><tr><td>3864</td><td>Ward 1 Precinct 5</td><td>585</td><td>1</td></tr><tr><td>4032</td><td>Ward 1 Precinct 5</td><td>753</td><td>1</td></tr><tr><td>4103</td><td>Ward 1 Precinct 6</td><td>31</td><td>1</td></tr><tr><td>4284</td><td>Ward 1 Precinct 6</td><td>212</td><td>1</td></tr><tr><td>4288</td><td>Ward 1 Precinct 6</td><td>216</td><td>1</td></tr><tr><td>4342</td><td>Ward 1 Precinct 6</td><td>270</td><td>1</td></tr><tr><td>4561</td><td>Ward 1 Precinct 6</td><td>489</td><td>1</td></tr><tr><td>4686</td><td>Ward 1 Precinct 6</td><td>614</td><td>1</td></tr><tr><td>4707</td><td>Ward 1 Precinct 6</td><td>635</td><td>1</td></tr><tr><td>4719</td><td>Ward 1 Precinct 7</td><td>12</td><td>1</td></tr><tr><td>4866</td><td>Ward 1 Precinct 7</td><td>159</td><td>1</td></tr><tr><td>4991</td><td>Ward 1 Precinct 7</td><td>284</td><td>1</td></tr><tr><td>5025</td><td>Ward 1 Precinct 7</td><td>318</td><td>1</td></tr><tr><td>5201</td><td>Ward 1 Precinct 7</td><td>494</td><td>1</td></tr><tr><td>5268</td><td>Ward 1 Precinct 7</td><td>561</td><td>1</td></tr><tr><td>5283</td><td>Ward 1 Precinct 7</td><td>576</td><td>1</td></tr><tr><td>5321</td><td>Ward 1 Precinct 7</td><td>614</td><td>1</td></tr><tr><td>5485</td><td>Ward 1 Precinct 7</td><td>778</td><td>1</td></tr><tr><td>5594</td><td>Ward 1 Precinct 8</td><td>8</td><td>1</td></tr><tr><td>5816</td><td>Ward 1 Precinct 8</td><td>230</td><td>1</td></tr><tr><td>5913</td><td>Ward 1 Precinct 8</td><td>327</td><td>1</td></tr><tr><td>6221</td><td>Ward 1 Precinct 8</td><td>635</td><td>1</td></tr><tr><td>6296</td><td>Ward 1 Precinct 8</td><td>710</td><td>1</td></tr><tr><td>6511</td><td>Ward 1 Precinct 9</td><td>112</td><td>1</td></tr><tr><td>6529</td><td>Ward 1 Precinct 9</td><td>130</td><td>1</td></tr><tr><td>6740</td><td>Ward 1 Precinct 9</td><td>341</td><td>1</td></tr><tr><td>6857</td><td>Ward 1 Precinct 9</td><td>458</td><td>1</td></tr><tr><td>6912</td><td>Ward 1 Precinct 9</td><td>513</td><td>1</td></tr><tr><td>7490</td><td>Ward 2 Precinct 11</td><td>29</td><td>1</td></tr><tr><td>7782</td><td>Ward 2 Precinct 11</td><td>321</td><td>1</td></tr><tr><td>7947</td><td>Ward 2 Precinct 11</td><td>486</td><td>1</td></tr><tr><td>7965</td><td>Ward 2 Precinct 11</td><td>504</td><td>1</td></tr><tr><td>7990</td><td>Ward 2 Precinct 11</td><td>529</td><td>1</td></tr><tr><td>8060</td><td>Ward 2 Precinct 11</td><td>599</td><td>1</td></tr><tr><td>8084</td><td>Ward 2 Precinct 11</td><td>623</td><td>1</td></tr><tr><td>8094</td><td>Ward 2 Precinct 11</td><td>633</td><td>1</td></tr><tr><td>8184</td><td>Ward 2 Precinct 11</td><td>723</td><td>1</td></tr><tr><td>8207</td><td>Ward 2 Precinct 11</td><td>746</td><td>1</td></tr><tr><td>8239</td><td>Ward 2 Precinct 11</td><td>778</td><td>1</td></tr><tr><td>8535</td><td>Ward 2 Precinct 12</td><td>283</td><td>1</td></tr><tr><td>8551</td><td>Ward 2 Precinct 12</td><td>299</td><td>1</td></tr><tr><td>8639</td><td>Ward 2 Precinct 12</td><td>387</td><td>1</td></tr><tr><td>8641</td><td>Ward 2 Precinct 12</td><td>389</td><td>1</td></tr><tr><td>8652</td><td>Ward 2 Precinct 12</td><td>400</td><td>1</td></tr><tr><td>8665</td><td>Ward 2 Precinct 12</td><td>413</td><td>1</td></tr><tr><td>8690</td><td>Ward 2 Precinct 12</td><td>438</td><td>1</td></tr><tr><td>8702</td><td>Ward 2 Precinct 12</td><td>450</td><td>1</td></tr><tr><td>8740</td><td>Ward 2 Precinct 12</td><td>488</td><td>1</td></tr><tr><td>8797</td><td>Ward 2 Precinct 12</td><td>545</td><td>1</td></tr><tr><td>8843</td><td>Ward 2 Precinct 12</td><td>591</td><td>1</td></tr><tr><td>8887</td><td>Ward 2 Precinct 12</td><td>635</td><td>1</td></tr><tr><td>8898</td><td>Ward 2 Precinct 12</td><td>646</td><td>1</td></tr><tr><td>9010</td><td>Ward 2 Precinct 12</td><td>758</td><td>1</td></tr><tr><td>9020</td><td>Ward 2 Precinct 12</td><td>768</td><td>1</td></tr><tr><td>9077</td><td>Ward 2 Precinct 12</td><td>825</td><td>1</td></tr><tr><td>9214</td><td>Ward 2 Precinct 13</td><td>13</td><td>1</td></tr><tr><td>9330</td><td>Ward 2 Precinct 13</td><td>129</td><td>1</td></tr><tr><td>9415</td><td>Ward 2 Precinct 13</td><td>214</td><td>1</td></tr><tr><td>9458</td><td>Ward 2 Precinct 13</td><td>257</td><td>1</td></tr><tr><td>9464</td><td>Ward 2 Precinct 13</td><td>263</td><td>1</td></tr><tr><td>9660</td><td>Ward 2 Precinct 13</td><td>459</td><td>1</td></tr><tr><td>9679</td><td>Ward 2 Precinct 13</td><td>478</td><td>1</td></tr><tr><td>9820</td><td>Ward 2 Precinct 13</td><td>619</td><td>1</td></tr><tr><td>9849</td><td>Ward 2 Precinct 13</td><td>648</td><td>1</td></tr><tr><td>9863</td><td>Ward 2 Precinct 13</td><td>662</td><td>1</td></tr><tr><td>9895</td><td>Ward 2 Precinct 13</td><td>694</td><td>1</td></tr><tr><td>9935</td><td>Ward 2 Precinct 14</td><td>6</td><td>1</td></tr><tr><td>10089</td><td>Ward 2 Precinct 14</td><td>160</td><td>1</td></tr><tr><td>10112</td><td>Ward 2 Precinct 14</td><td>183</td><td>1</td></tr><tr><td>10216</td><td>Ward 2 Precinct 14</td><td>287</td><td>1</td></tr><tr><td>10251</td><td>Ward 2 Precinct 14</td><td>322</td><td>1</td></tr><tr><td>10299</td><td>Ward 2 Precinct 14</td><td>370</td><td>1</td></tr><tr><td>10420</td><td>Ward 2 Precinct 14</td><td>491</td><td>1</td></tr><tr><td>10430</td><td>Ward 2 Precinct 14</td><td>501</td><td>1</td></tr><tr><td>10444</td><td>Ward 2 Precinct 14</td><td>515</td><td>1</td></tr><tr><td>10471</td><td>Ward 2 Precinct 14</td><td>542</td><td>1</td></tr><tr><td>10496</td><td>Ward 2 Precinct 14</td><td>567</td><td>1</td></tr><tr><td>10553</td><td>Ward 2 Precinct 14</td><td>624</td><td>1</td></tr><tr><td>10568</td><td>Ward 2 Precinct 14</td><td>639</td><td>1</td></tr><tr><td>10614</td><td>Ward 2 Precinct 14</td><td>685</td><td>1</td></tr></table>"
      ],
      "text/plain": [
       "<IPython.core.display.HTML object>"
      ]
     },
     "metadata": {},
     "output_type": "display_data"
    }
   ],
   "source": [
    "print(\"No CVR sample\")\n",
    "display(HTML(\n",
    "    '<table><tr>{}</tr></table>'.format(\n",
    "        '</tr><tr>'.join(\n",
    "            '<td>{}</td>'.format('</td><td>'.join(str(_) for _ in row)) for row in nocvr_sample)\n",
    "        )\n",
    " ))"
   ]
  },
  {
   "cell_type": "markdown",
   "metadata": {},
   "source": [
    "# Enter the sample data\n",
    "\n",
    "The audit cannot stop until **all** the sampled ballots have been examined."
   ]
  },
  {
   "cell_type": "markdown",
   "metadata": {},
   "source": [
    "## Sample statistics for the CVR stratum (stratum 1)\n",
    "\n",
    "Enter the number of 1-vote and 2-vote over-/understatements that were observed in the sample using the sliders below, then run the cell beneath the sliders to store the values."
   ]
  },
  {
   "cell_type": "code",
   "execution_count": 40,
   "metadata": {},
   "outputs": [
    {
     "name": "stdout",
     "output_type": "stream",
     "text": [
      "The sample size in the CVR stratum was 0\n"
     ]
    }
   ],
   "source": [
    "n1=0\n",
    "print(\"The sample size in the CVR stratum was\", n1)"
   ]
  },
  {
   "cell_type": "code",
   "execution_count": 17,
   "metadata": {},
   "outputs": [
    {
     "data": {
      "application/vnd.jupyter.widget-view+json": {
       "model_id": "ec4d6bfb5d5f48a28fc1ce4b514af6a5",
       "version_major": 2,
       "version_minor": 0
      },
      "text/plain": [
       "interactive(children=(IntSlider(value=0, description='o1', max=0), IntSlider(value=0, description='o2', max=0)…"
      ]
     },
     "metadata": {},
     "output_type": "display_data"
    }
   ],
   "source": [
    "def cvr_audit_inputs(o1, o2, u1, u2):\n",
    "    return (o1, o2, u1, u2)\n",
    "\n",
    "cvr_stats = interactive(cvr_audit_inputs,\n",
    "                             o1 = widgets.IntSlider(min=0,max=n1,value=0),\n",
    "                             u1 = widgets.IntSlider(min=0,max=n1,value=0),\n",
    "                             o2 = widgets.IntSlider(min=0,max=n1,value=0),\n",
    "                             u2 = widgets.IntSlider(min=0,max=n1,value=0))\n",
    "display(cvr_stats)"
   ]
  },
  {
   "cell_type": "code",
   "execution_count": 18,
   "metadata": {},
   "outputs": [],
   "source": [
    "(o1, o2, u1, u2) = [cvr_stats.children[i].value for i in range(4)]"
   ]
  },
  {
   "cell_type": "markdown",
   "metadata": {},
   "source": [
    "## Sample statistics for the no-CVR stratum (stratum 2)\n",
    "\n",
    "Enter the number of ballots for each candidate that were observed in the sample using the sliders below, then run the cell beneath the sliders to store the values."
   ]
  },
  {
   "cell_type": "code",
   "execution_count": 33,
   "metadata": {},
   "outputs": [],
   "source": [
    "n2 = 258"
   ]
  },
  {
   "cell_type": "code",
   "execution_count": 34,
   "metadata": {},
   "outputs": [
    {
     "name": "stdout",
     "output_type": "stream",
     "text": [
      "The sample size in the no-CVR stratum was 258\n"
     ]
    }
   ],
   "source": [
    "print(\"The sample size in the no-CVR stratum was\", n2)"
   ]
  },
  {
   "cell_type": "code",
   "execution_count": 35,
   "metadata": {},
   "outputs": [
    {
     "data": {
      "application/vnd.jupyter.widget-view+json": {
       "model_id": "0dad63079db947b18c87dc9c8fcc6c81",
       "version_major": 2,
       "version_minor": 0
      },
      "text/plain": [
       "VBox(children=(IntSlider(value=0, description='Ward', max=258), IntSlider(value=0, description='Neal', max=258…"
      ]
     },
     "metadata": {},
     "output_type": "display_data"
    }
   ],
   "source": [
    "nocvr_widgets=[]\n",
    "\n",
    "# create the widgets\n",
    "for name in candidates.keys():\n",
    "    nocvr_widgets.append(widgets.IntSlider(value=0,min=0,max=n2,description=name))\n",
    "\n",
    "# group the widgets into a FlexBox\n",
    "nocvr_audit_inputs = widgets.VBox(children=nocvr_widgets)\n",
    "\n",
    "# display the widgets\n",
    "display(nocvr_audit_inputs)"
   ]
  },
  {
   "cell_type": "code",
   "execution_count": 36,
   "metadata": {},
   "outputs": [
    {
     "name": "stdout",
     "output_type": "stream",
     "text": [
      "{'Neal': 94, 'Ward': 116}\n"
     ]
    }
   ],
   "source": [
    "# no-CVR sample is stored in a dict with name, votes in the sample\n",
    "\n",
    "observed_poll = {}\n",
    "for widget in nocvr_widgets:\n",
    "    observed_poll[widget.description] = widget.value\n",
    "\n",
    "assert np.sum(list(observed_poll.values())) <= n2, \"Too many ballots input\"\n",
    "pprint.pprint(observed_poll)"
   ]
  },
  {
   "cell_type": "markdown",
   "metadata": {},
   "source": [
    "# What's the risk for this sample?\n",
    "\n",
    "The audit looks at every (winner, loser) pair in each contest. Auditing continues until there is strong evidence that every winner in a contest got more votes than every loser in the contest. It does this by considering (winner, loser) pairs. The SUITE risk for every pair will appear beneath the cell below after it is run. The audit continues until all the numbers are not larger than the risk limit. E.g., if the risk limit is 10%, the audit stops when the numbers in the table are all less than 0.1."
   ]
  },
  {
   "cell_type": "code",
   "execution_count": 37,
   "metadata": {},
   "outputs": [
    {
     "name": "stdout",
     "output_type": "stream",
     "text": [
      "{('Ward', 'Neal'): 0.8756258121182785}\n"
     ]
    }
   ],
   "source": [
    "# Find audit p-values across (winner, loser) pairs\n",
    "n1=0\n",
    "audit_pvalues = audit_contest(candidates, winners, losers, stratum_sizes, \\\n",
    "                  n1, n2, o1, o2, u1, u2, observed_poll, \\\n",
    "                  risk_limit=risk_limit, gamma=gamma, stepsize=lambda_step)\n",
    "pprint.pprint(audit_pvalues)"
   ]
  },
  {
   "cell_type": "code",
   "execution_count": 38,
   "metadata": {},
   "outputs": [
    {
     "name": "stdout",
     "output_type": "stream",
     "text": [
      "Pairs not yet confirmed:\n",
      " [('Ward', 'Neal')]\n"
     ]
    }
   ],
   "source": [
    "# Track contests not yet confirmed\n",
    "\n",
    "contests_not_yet_confirmed = [i[0] for i in audit_pvalues.items() \\\n",
    "                              if i[1]>risk_limit]\n",
    "print(\"Pairs not yet confirmed:\\n\", contests_not_yet_confirmed)\n",
    "\n",
    "winners_not_yet_confirmed = list(set(list(map(lambda x: x[0], contests_not_yet_confirmed))))\n",
    "losers_not_yet_confirmed = list(set(list(map(lambda x: x[1], contests_not_yet_confirmed))))"
   ]
  },
  {
   "cell_type": "code",
   "execution_count": 55,
   "metadata": {},
   "outputs": [],
   "source": [
    "# Save everything to file, you may change the file name in quotes\n",
    "\n",
    "\n",
    "write_audit_results(\"../log/lansing_audit_results.json\", \\\n",
    "                        n1, n2, sample1, sample2, \\\n",
    "                        o1, o2, u1, u2, observed_poll, \\\n",
    "                        audit_pvalues, prng.getstate())"
   ]
  },
  {
   "cell_type": "markdown",
   "metadata": {},
   "source": [
    "# Escalation guidance: how many more ballots should be drawn?\n",
    "\n",
    "This tool estimates how many more ballots should be examined to confirm any remaining contests. The enlarged sample size is based on the following:\n",
    "* ballots that have already been sampled\n",
    "* assumption that we will continue to see overstatements and understatements at the same rate that they've been observed in the sample so far\n",
    "* assumption that vote proportions in the ballot-polling stratum will reflect the reported proportions\n",
    "\n",
    "Given these additional numbers, return to the sampling tool and draw additional ballots, find them with the ballot manifest tool, update the observed sample values, and rerun the SUITE risk calculations. Additional code cells to do this are included below."
   ]
  },
  {
   "cell_type": "code",
   "execution_count": 40,
   "metadata": {},
   "outputs": [],
   "source": [
    "sample_sizes_new = {}\n",
    "\n",
    "# Add a reminder note about the candidate dict structure.\n",
    "\n",
    "for k in contests_not_yet_confirmed:\n",
    "    sample_sizes_new[k] = estimate_escalation_n(\\\n",
    "                                 N_w1 = candidates[k[0]][0],\\\n",
    "                                 N_w2 = candidates[k[0]][1],\\\n",
    "                                 N_l1 = candidates[k[1]][0],\\\n",
    "                                 N_l2 = candidates[k[1]][1],\\\n",
    "                                 N1 = stratum_sizes[0],\\\n",
    "                                 N2 = stratum_sizes[1],\\\n",
    "                                 n1 = 0,\\\n",
    "                                 n2 = 258,\\\n",
    "                                 o1_obs = o1,\\\n",
    "                                 o2_obs = o2,\\\n",
    "                                 u1_obs = u1,\\\n",
    "                                 u2_obs = u2,\\\n",
    "                                 n2l_obs = observed_poll[k[1]],\\\n",
    "                                 n2w_obs = observed_poll[k[0]],\\\n",
    "                                 n_ratio = 0,\\\n",
    "                                 risk_limit = risk_limit,\\\n",
    "                                 gamma = gamma,\\\n",
    "                                 stepsize = lambda_step,\n",
    "                                 risk_limit_tol = 0.8)"
   ]
  },
  {
   "cell_type": "code",
   "execution_count": 41,
   "metadata": {},
   "outputs": [
    {
     "name": "stdout",
     "output_type": "stream",
     "text": [
      "estimated sample sizes for each contest, written as (cvr stratum, no-cvr stratum):\n",
      "\n",
      "{('Ward', 'Neal'): (0, 4815)}\n",
      "\n",
      "\n",
      "expected total sample size needed to confirm remaining pairs: 4815\n",
      "\n",
      "Draw this many additional ballots in the CVR stratum: 0\n",
      "Draw this many additional ballots in the no-CVR stratum: 4557\n"
     ]
    }
   ],
   "source": [
    "sample_size_new = np.amax([v[0]+v[1] for v in sample_sizes_new.values()])\n",
    "n1_new = np.amax([v[0] for v in sample_sizes_new.values()])\n",
    "n2_new = np.amax([v[1] for v in sample_sizes_new.values()])\n",
    "\n",
    "\n",
    "print(\"estimated sample sizes for each contest, written as (cvr stratum, no-cvr stratum):\\n\")\n",
    "pprint.pprint(sample_sizes_new)\n",
    "print('\\n\\nexpected total sample size needed to confirm remaining pairs:', sample_size_new)\n",
    "print(\"\\nDraw this many additional ballots in the CVR stratum:\", n1_new - n1)\n",
    "print(\"Draw this many additional ballots in the no-CVR stratum:\", n2_new - n2)"
   ]
  },
  {
   "cell_type": "markdown",
   "metadata": {},
   "source": [
    "# Draw additional ballots"
   ]
  },
  {
   "cell_type": "code",
   "execution_count": null,
   "metadata": {},
   "outputs": [],
   "source": [
    "# print the current state of the PRNG after drawing the initial samples\n",
    "print(prng) "
   ]
  },
  {
   "cell_type": "code",
   "execution_count": null,
   "metadata": {},
   "outputs": [],
   "source": [
    "# CVR stratum sample size, sampled with replacement\n",
    "sample1 = prng.randint(1, stratum_sizes[0]+1, size=n1_new - n1)\n",
    "\n",
    "# No-CVR ballots are sampled without replacement\n",
    "remaining_ballots = [i for i in range(stratum_sizes[1]) if i not in sample2]\n",
    "sample2 = random_sample(remaining_ballots, size=n2_new - n2, replace=False, prng=prng)"
   ]
  },
  {
   "cell_type": "markdown",
   "metadata": {},
   "source": [
    "### CVR stratum sample"
   ]
  },
  {
   "cell_type": "code",
   "execution_count": null,
   "metadata": {},
   "outputs": [],
   "source": [
    "print(\"CVR stratum sample:\\n\", sample1)"
   ]
  },
  {
   "cell_type": "code",
   "execution_count": null,
   "metadata": {},
   "outputs": [],
   "source": [
    "m = np.zeros_like(sample1, dtype=bool)\n",
    "m[np.unique(sample1, return_index=True)[1]] = True\n",
    "print(\"CVR stratum repeated ballots:\\n\", sample1[~m])"
   ]
  },
  {
   "cell_type": "markdown",
   "metadata": {},
   "source": [
    "### No-CVR sample"
   ]
  },
  {
   "cell_type": "code",
   "execution_count": null,
   "metadata": {},
   "outputs": [],
   "source": [
    "print(\"No-CVR stratum sample:\\n\", sample2)"
   ]
  },
  {
   "cell_type": "markdown",
   "metadata": {},
   "source": [
    "# Find ballots using ballot manifest"
   ]
  },
  {
   "cell_type": "code",
   "execution_count": null,
   "metadata": {},
   "outputs": [],
   "source": [
    "cvr_sample = sample_from_manifest(filename=\"../data/City of Lansing Ballot Manifest - Absentee.csv\", \\\n",
    "                                   sample=sample1, \\\n",
    "                                   stratum_size=stratum_sizes[0])\n"
   ]
  },
  {
   "cell_type": "code",
   "execution_count": null,
   "metadata": {
    "collapsed": true
   },
   "outputs": [],
   "source": [
    "write_ballots_to_sample(\"../log/lansing-sampled-absentee-2.csv\", cvr_sample)"
   ]
  },
  {
   "cell_type": "code",
   "execution_count": null,
   "metadata": {},
   "outputs": [],
   "source": [
    "print(\"CVR sample\")\n",
    "display(HTML(\n",
    "    '<table><tr>{}</tr></table>'.format(\n",
    "        '</tr><tr>'.join(\n",
    "            '<td>{}</td>'.format('</td><td>'.join(str(_) for _ in row)) for row in cvr_sample)\n",
    "        )\n",
    " ))"
   ]
  },
  {
   "cell_type": "code",
   "execution_count": null,
   "metadata": {},
   "outputs": [],
   "source": [
    "nocvr_sample =  sample_from_manifest(filename=\"../data/City of Lansing Ballot Manifest - Election Day.csv\", \\\n",
    "                                   sample=sample2, \\\n",
    "                                   stratum_size=stratum_sizes[1])\n"
   ]
  },
  {
   "cell_type": "code",
   "execution_count": null,
   "metadata": {
    "collapsed": true
   },
   "outputs": [],
   "source": [
    "write_ballots_to_sample(\"../log/lansing-sampled-election-day-2.csv\", nocvr_sample)"
   ]
  },
  {
   "cell_type": "code",
   "execution_count": null,
   "metadata": {
    "scrolled": true
   },
   "outputs": [],
   "source": [
    "print(\"No CVR sample\")\n",
    "display(HTML(\n",
    "    '<table><tr>{}</tr></table>'.format(\n",
    "        '</tr><tr>'.join(\n",
    "            '<td>{}</td>'.format('</td><td>'.join(str(_) for _ in row)) for row in nocvr_sample)\n",
    "        )\n",
    " ))"
   ]
  },
  {
   "cell_type": "markdown",
   "metadata": {},
   "source": [
    "# Enter the data from the *combined* sample"
   ]
  },
  {
   "cell_type": "markdown",
   "metadata": {},
   "source": [
    "## Sample statistics for the CVR stratum (stratum 1).\n",
    "Update the numbers below to include what was seen in the initial sample PLUS what was seen in the new sample."
   ]
  },
  {
   "cell_type": "code",
   "execution_count": null,
   "metadata": {},
   "outputs": [],
   "source": [
    "print(\"The initial sample size in the CVR stratum was\", n1, \\\n",
    "      \"and the new sample size was\", n1_new)\n",
    "print(\"The observed overstatements and understatements from the original sample were\")\n",
    "pprint.pprint({\"o1\" : o1, \"o2\" : o2, \"u1\" : u1, \"u2\" : u2})"
   ]
  },
  {
   "cell_type": "code",
   "execution_count": null,
   "metadata": {},
   "outputs": [],
   "source": [
    "# Number of observed...\n",
    "\n",
    "def cvr_audit_inputs(o1, o2, u1, u2):\n",
    "    return (o1, o2, u1, u2)\n",
    "\n",
    "cvr_stats = interactive(cvr_audit_inputs,\n",
    "                             o1 = widgets.IntSlider(min=0,max=n1_new,value=0),\n",
    "                             u1 = widgets.IntSlider(min=0,max=n1_new,value=0),\n",
    "                             o2 = widgets.IntSlider(min=0,max=n1_new,value=0),\n",
    "                             u2 = widgets.IntSlider(min=0,max=n1_new,value=0))\n",
    "display(cvr_stats)"
   ]
  },
  {
   "cell_type": "code",
   "execution_count": null,
   "metadata": {},
   "outputs": [],
   "source": [
    "(o1, o2, u1, u2) = [cvr_stats.children[i].value for i in range(4)]"
   ]
  },
  {
   "cell_type": "markdown",
   "metadata": {},
   "source": [
    "## Sample statistics for the no-CVR stratum (stratum 2)\n",
    "Update the numbers below to include what was seen in the initial sample PLUS what was seen in the new sample."
   ]
  },
  {
   "cell_type": "code",
   "execution_count": null,
   "metadata": {},
   "outputs": [],
   "source": [
    "print(\"The initial sample size in the no-CVR stratum was\", n2, \\\n",
    "      \"and the new sample size was\", n2_new)\n",
    "print(\"The observed tallies from the original sample were\")\n",
    "pprint.pprint(observed_poll)"
   ]
  },
  {
   "cell_type": "code",
   "execution_count": null,
   "metadata": {},
   "outputs": [],
   "source": [
    "nocvr_widgets=[]\n",
    "\n",
    "# create the widgets\n",
    "for name in candidates.keys():\n",
    "    nocvr_widgets.append(widgets.IntSlider(value=0,min=0,max=n2_new,description=name))\n",
    "\n",
    "# group the widgets into a FlexBox\n",
    "nocvr_audit_inputs = widgets.VBox(children=nocvr_widgets)\n",
    "\n",
    "# display the widgets\n",
    "display(nocvr_audit_inputs)"
   ]
  },
  {
   "cell_type": "code",
   "execution_count": null,
   "metadata": {},
   "outputs": [],
   "source": [
    "# no-CVR sample is stored in a dict with name, votes in the sample\n",
    "\n",
    "observed_poll = {}\n",
    "for widget in nocvr_widgets:\n",
    "    observed_poll[widget.description] = widget.value\n",
    "\n",
    "assert np.sum(list(observed_poll.values())) <= n2_new, \"Too many ballots input\"\n",
    "pprint.pprint(observed_poll)\n"
   ]
  },
  {
   "cell_type": "markdown",
   "metadata": {},
   "source": [
    "# What's the risk for this sample?\n",
    "\n",
    "The audit looks at every (winner, loser) pair in each contest. Auditing continues until there is strong evidence that every winner in a contest got more votes than every loser in the contest. It does this by considering (winner, loser) pairs. The SUITE risk for every pair will appear beneath the cell below after it is run. The audit continues until all the numbers are not larger than the risk limit. E.g., if the risk limit is 10%, the audit stops when the numbers in the table are all less than 0.1."
   ]
  },
  {
   "cell_type": "code",
   "execution_count": null,
   "metadata": {},
   "outputs": [],
   "source": [
    "# Find audit p-values across (winner, loser) pairs\n",
    "\n",
    "audit_pvalues = audit_contest(candidates, winners_not_yet_confirmed, \\\n",
    "                              losers_not_yet_confirmed, stratum_sizes, \\\n",
    "                              n1_new, n2_new, o1, o2, u1, u2, observed_poll, \\\n",
    "                              risk_limit=risk_limit, gamma=gamma, stepsize=lambda_step)\n",
    "pprint.pprint(audit_pvalues)"
   ]
  },
  {
   "cell_type": "code",
   "execution_count": null,
   "metadata": {},
   "outputs": [],
   "source": [
    "# Track contests not yet confirmed\n",
    "\n",
    "contests_not_yet_confirmed = [i[0] for i in audit_pvalues.items() \\\n",
    "                              if i[1]>risk_limit]\n",
    "print(\"Pairs not yet confirmed:\\n\", contests_not_yet_confirmed)"
   ]
  },
  {
   "cell_type": "code",
   "execution_count": null,
   "metadata": {},
   "outputs": [],
   "source": [
    "# Save everything to file, you may change the file name in quotes\n",
    "\n",
    "write_audit_results(\"../log/lansing_audit_results2.json\", \\\n",
    "                        n1_new, n2_new, sample1, sample2, \\\n",
    "                        o1, o2, u1, u2, observed_poll, \\\n",
    "                        audit_pvalues, prng.getstate())"
   ]
  }
 ],
 "metadata": {
  "kernelspec": {
   "display_name": "Python 3",
   "language": "python",
   "name": "python3"
  },
  "language_info": {
   "codemirror_mode": {
    "name": "ipython",
    "version": 3
   },
   "file_extension": ".py",
   "mimetype": "text/x-python",
   "name": "python",
   "nbconvert_exporter": "python",
   "pygments_lexer": "ipython3",
   "version": "3.7.1"
  },
  "widgets": {
   "state": {
    "1d2ee522213f4c7c94846565f4e12241": {
     "views": [
      {
       "cell_index": 44
      }
     ]
    },
    "c923e84950bb49b5a1abc161a3b6c1a5": {
     "views": [
      {
       "cell_index": 39
      }
     ]
    }
   },
   "version": "1.2.0"
  }
 },
 "nbformat": 4,
 "nbformat_minor": 2
}
