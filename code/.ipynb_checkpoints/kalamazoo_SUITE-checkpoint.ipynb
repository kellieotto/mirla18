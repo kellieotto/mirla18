{
 "cells": [
  {
   "cell_type": "markdown",
   "metadata": {},
   "source": [
    "# Tools for SUITE Risk-Limiting Election Audits\n",
    "\n",
    "This Jupyter notebook implements some tools to conduct \"hybrid\" stratified risk-limiting audits as described in Risk-Limiting Audits by Stratified Union-Intersection Tests of Elections (SUITE), by Ottoboni, Stark, Lindeman, and McBurnett.\n",
    "\n",
    "For an implementation of tools for \"comparison\" risk-limiting audits as described in AGI, see http://statistics.berkeley.edu/~stark/Vote/auditTools.htm. For the sister ballot polling tool, see https://www.stat.berkeley.edu/~stark/Vote/ballotPollTools.htm.\n",
    "\n",
    "The tools on this page help perform the following steps:\n",
    "\n",
    "* Choose a number of ballots to audit in each stratum initially, on the assumption that the contest outcome is correct.\n",
    "* Select random samples of ballots in each stratum.\n",
    "* Find those ballots using ballot manifests.\n",
    "* Determine whether the audit can stop, given the votes on the ballots in the sample. \n",
    "* If the audit cannot stop yet, estimate how many additional ballots will need to be audited.\n",
    "\n",
    "This notebook is already filled out with an example election. It can be run from start to finish to demonstrate how the tool works. The numbers in the example can be deleted and replaced with actual data for an audit."
   ]
  },
  {
   "cell_type": "markdown",
   "metadata": {},
   "source": [
    "## Introduction to Jupyter Notebooks\n",
    "\n",
    "We leave [a comprehensive introduction to the Jupyter notebook](https://jupyter-notebook.readthedocs.io/en/stable/notebook.html) to the experts, but below are a few features you should know to use this tool:\n",
    "\n",
    "* notebooks are comprised of _cells_, blocks of code that can be run together. To the left of a code cell, you will see either [] (indicating that it has not been run yet) or [x] (where x is a number indicating that it was the xth cell to be run). You can the code in a cell by clicking into the cell, indicated by a green box around the cell, and running `Ctrl + Enter`.\n",
    "* code lines that begin with `#` are comments. They're not actually run, but are there to describe what the code is doing.\n",
    "* the text in a notebook is also written in a cell. Instead of a code cell, it's a Markdown cell. Clicking on a text cell will make it editable; running `Ctrl + Enter` will render it back into text.\n",
    "* the order in which cells are executed matters. Code in later cells depends on earlier cells. However, it is _possible_ to run cells out of order or rerun cells that have been run earlier; this can cause problem. In general, it is __best practice__ to rerun the entire notebook after you have filled in the values you want. To do so, click on the `Kernel` menu at the top of the page and select `Restart & Run All`. This will clear the memory and rerun everything in the prescribed order.\n",
    "\n",
    "\n",
    "The following cell imports all the necessary functionality from packages."
   ]
  },
  {
   "cell_type": "code",
   "execution_count": 1,
   "metadata": {
    "collapsed": false
   },
   "outputs": [
    {
     "name": "stderr",
     "output_type": "stream",
     "text": [
      "/Library/Frameworks/Python.framework/Versions/3.4/lib/python3.4/importlib/_bootstrap.py:321: RuntimeWarning: numpy.dtype size changed, may indicate binary incompatibility. Expected 96, got 88\n",
      "  return f(*args, **kwds)\n"
     ]
    }
   ],
   "source": [
    "from __future__ import print_function\n",
    "\n",
    "from ipywidgets import interact, interactive, fixed, interact_manual\n",
    "import ipywidgets as widgets\n",
    "from IPython.display import display, HTML\n",
    "\n",
    "from collections import OrderedDict\n",
    "from itertools import product\n",
    "import math\n",
    "import json\n",
    "import pprint\n",
    "\n",
    "import numpy as np\n",
    "from ballot_comparison import ballot_comparison_pvalue\n",
    "from fishers_combination import  maximize_fisher_combined_pvalue, create_modulus\n",
    "from sprt import ballot_polling_sprt\n",
    "\n",
    "from cryptorandom.cryptorandom import SHA256\n",
    "from cryptorandom.sample import random_sample\n",
    "\n",
    "from suite_tools import write_audit_parameters, write_audit_results, \\\n",
    "        check_valid_audit_parameters, check_valid_vote_counts, \\\n",
    "        check_overvote_rates, find_winners_losers, print_reported_votes, \\\n",
    "        estimate_n, estimate_escalation_n, \\\n",
    "        sample_from_manifest, write_ballots_to_sample, \\\n",
    "        audit_contest, check_polling_sample_size, plot_nratio_sample_sizes\n",
    "    \n",
    "import warnings\n",
    "warnings.filterwarnings(\"ignore\")"
   ]
  },
  {
   "cell_type": "markdown",
   "metadata": {},
   "source": [
    "# Input the global audit parameters.\n",
    "\n",
    "For an audit, you should input the following global parameters in the cell below:\n",
    "\n",
    "* contest-specific parameters:\n",
    "    * `risk_limit`: the risk limit for the audit\n",
    "    * `stratum_sizes`: total ballots in the two strata, [CVR total, no-CVR total]\n",
    "    * `num_winners`: number of winners in the contest\n",
    "* software parameters:\n",
    "    * `seed`: the numeric seed for the pseudo-random number generator used to draw samples of ballots. Use, e.g., 20 rolls of a 10-sided die \n",
    "    * `gamma`: the gamma parameter used in the ballot-polling method from Lindeman and Stark (2012). Default value of 1.03905 is generally accepted\n",
    "    * `lambda_step`: the initial step size in the grid search over the way error is allocated across the CVR and no-CVR strata in SUITE. Default 0.05 is acceptable\n",
    "* initial sample size estimate parameters:\n",
    "    * `o1_rate`: expected rate of 1-vote overstatements in the CVR stratum\n",
    "    * `o2_rate`: expected rate of 2-vote overstatements in the CVR stratum\n",
    "    * `u1_rate`: expected rate of 1-vote understatements in the CVR stratum\n",
    "    * `u2_rate`: expected rate of 2-vote understatements in the CVR stratum\n",
    "    * `n_ratio`: what fraction of the sample is taken from the CVR stratum. Default is to allocate sample in proportion to ballots cast in each stratum.\n"
   ]
  },
  {
   "cell_type": "code",
   "execution_count": 2,
   "metadata": {
    "collapsed": true
   },
   "outputs": [],
   "source": [
    "# contest-specific parameters\n",
    "risk_limit = 0.05    # risk limit\n",
    "stratum_sizes = [5294, 22372]  # total ballots in the two strata, CVR, no-CVR\n",
    "num_winners = 1      # maximum number of winners, per social choice function"
   ]
  },
  {
   "cell_type": "code",
   "execution_count": 3,
   "metadata": {
    "collapsed": true
   },
   "outputs": [],
   "source": [
    "# software parameters\n",
    "seed = 59048535524622120046  # use, e.g., 20 rolls of a 10-sided die\n",
    "gamma=1.03905         # gamma from Lindeman and Stark (2012)\n",
    "lambda_step = 0.05    # stepsize for the discrete bounds on Fisher's combining function"
   ]
  },
  {
   "cell_type": "code",
   "execution_count": 4,
   "metadata": {
    "collapsed": true
   },
   "outputs": [],
   "source": [
    "# initial sample size parameters\n",
    "o1_rate = 0.002       # expect 2 1-vote overstatements per 1000 ballots in the CVR stratum\n",
    "o2_rate = 0           # expect 0 2-vote overstatements\n",
    "u1_rate = 0           # expect 0 1-vote understatements\n",
    "u2_rate = 0           # expect 0 2-vote understatements\n",
    "n_ratio = stratum_sizes[0]/np.sum(stratum_sizes) \n",
    "                     # allocate sample in proportion to ballots cast in each stratum"
   ]
  },
  {
   "cell_type": "code",
   "execution_count": 5,
   "metadata": {
    "collapsed": false
   },
   "outputs": [],
   "source": [
    "check_valid_audit_parameters(risk_limit, lambda_step, o1_rate, o2_rate, \\\n",
    "                                 u1_rate, u2_rate, stratum_sizes, n_ratio, num_winners)"
   ]
  },
  {
   "cell_type": "markdown",
   "metadata": {},
   "source": [
    "The next cell saves the input parameters to a JSON file. You may change the file name in quotes but do not change the rest of the code."
   ]
  },
  {
   "cell_type": "code",
   "execution_count": 6,
   "metadata": {
    "collapsed": false
   },
   "outputs": [],
   "source": [
    "write_audit_parameters(\"../log/kalamazoo_audit_parameters.json\",\\\n",
    "                       risk_limit, stratum_sizes, num_winners, seed, gamma, \\\n",
    "                       lambda_step, o1_rate, o2_rate, \\\n",
    "                       u1_rate, u2_rate, n_ratio)"
   ]
  },
  {
   "cell_type": "markdown",
   "metadata": {},
   "source": [
    "# Enter the reported votes\n",
    "\n",
    "Candidates are stored in a data structure called a dictionary. Enter the candidate name and the votes in each stratum, [votes in CVR stratum, votes in no-CVR stratum], in the cell below. The following cell will calculate the vote totals, margins, winners, and losers."
   ]
  },
  {
   "cell_type": "code",
   "execution_count": 7,
   "metadata": {
    "collapsed": false
   },
   "outputs": [],
   "source": [
    "# input number of winners\n",
    "# input names as well as reported votes in each stratum\n",
    "\n",
    "# candidates are a dict with name, [votes in CVR stratum, votes in no-CVR stratum]\n",
    "candidates = {\"Schuette\": [1349, 4220],\n",
    "              \"Whitmer\": [3765, 16934],\n",
    "              \"Gelineau\": [56, 462],\n",
    "              \"Schleiger\": [19, 116],\n",
    "              \"Kurland\": [23, 284],\n",
    "              \"Butkovich\": [6, 66]}\n",
    "\n",
    "# Run validity check on the input vote totals\n",
    "check_valid_vote_counts(candidates, num_winners, stratum_sizes)"
   ]
  },
  {
   "cell_type": "code",
   "execution_count": 8,
   "metadata": {
    "collapsed": false
   },
   "outputs": [],
   "source": [
    "# compute reported winners, losers, and pairwise margins. Nothing should be printed.\n",
    "(candidates, margins, winners, losers) = find_winners_losers(candidates, num_winners)\n",
    "  \n",
    "# Check that overstatement rates are compatible with the reported results\n",
    "check_overvote_rates(margins=margins, total_votes=sum(stratum_sizes), \n",
    "                     o1_rate=o1_rate, o2_rate=o2_rate)"
   ]
  },
  {
   "cell_type": "code",
   "execution_count": 9,
   "metadata": {
    "collapsed": false
   },
   "outputs": [
    {
     "name": "stdout",
     "output_type": "stream",
     "text": [
      "\n",
      "Total reported votes:\n",
      "\t\t\tCVR\tno-CVR\ttotal\t% of all votes\t% of valid votes\n",
      "\t Whitmer : 3765 \t 16934 \t 20699 \t 74.82% \t 75.82%\n",
      "\t Schuette : 1349 \t 4220 \t 5569 \t 20.13% \t 20.40%\n",
      "\t Gelineau : 56 \t 462 \t 518 \t 1.87% \t 1.90%\n",
      "\t Kurland : 23 \t 284 \t 307 \t 1.11% \t 1.12%\n",
      "\t Schleiger : 19 \t 116 \t 135 \t 0.49% \t 0.49%\n",
      "\t Butkovich : 6 \t 66 \t 72 \t 0.26% \t 0.26%\n",
      "\n",
      "\t valid votes:\t 5218 \t 22082 \t 27300 \t 98.68%\n",
      "\n",
      "\t non-votes:\t 76 \t 290 \t 366 \t 1.32%\n",
      "\n",
      "Reported winners:\n",
      "\t Whitmer\n",
      "\n",
      "Reported losers:\n",
      "\t Schuette\n",
      "\t Gelineau\n",
      "\t Kurland\n",
      "\t Schleiger\n",
      "\t Butkovich\n",
      "\n",
      "\n",
      "Reported margins:\n",
      "\t Whitmer beat Butkovich by 20,627 votes\n",
      "\t Whitmer beat Schleiger by 20,564 votes\n",
      "\t Whitmer beat Kurland by 20,392 votes\n",
      "\t Whitmer beat Gelineau by 20,181 votes\n",
      "\t Whitmer beat Schuette by 15,130 votes\n",
      "\n",
      "Smallest reported margin: 15,130 \n",
      "Corresponding reported diluted margin: 54.69%\n"
     ]
    }
   ],
   "source": [
    "# print reported winners, losers, and pairwise margins\n",
    "print_reported_votes(candidates, winners, losers, margins, stratum_sizes,\\\n",
    "                     print_alphabetical=False)"
   ]
  },
  {
   "cell_type": "markdown",
   "metadata": {},
   "source": [
    "# Initial sample size estimates.\n",
    "\n",
    "The initial sample size tool helps you anticipate the number of randomly selected ballots that might need to be inspected to attain a given limit on the risk, under the assumption that the reported percentages for each candidate are correct. \n",
    "\n",
    "It is completely legitimate to sample one at a time and rerun the SUITE calculations, but this form can help auditors anticipate how many ballots the audit is likely to require and to retrieve ballots more efficiently.\n",
    "\n",
    "This code will estimate the sample size needed to attain the desired risk limit in an audit of the contest between each pair of winning and losing candidates. The overall sample size will be allocated to the CVR stratum in `n_ratio` proportion and to the no-CVR stratum in `1-n_ratio` proportion. The sample size estimates for each pair will be printed below. The expected sample size needed for the audit is the _maximum_ of the sample sizes for each winner, loser pair: the sample must be large enough to confirm the closest margin.\n",
    "\n",
    "Taking a larger initial sample can avoid needing to expand the sample later, depending on the rate of ballots for each candidate in the sample. Avoiding \"escalation\" can make the audit less complicated.\n"
   ]
  },
  {
   "cell_type": "code",
   "execution_count": 10,
   "metadata": {
    "collapsed": false
   },
   "outputs": [],
   "source": [
    "# Calculate expected sample size across (winner, loser) pairs\n",
    "\n",
    "sample_sizes = {}\n",
    "\n",
    "for k in product(winners, losers):\n",
    "    sample_sizes[k] = estimate_n(N_w1 = candidates[k[0]][0],\\\n",
    "                                 N_w2 = candidates[k[0]][1],\\\n",
    "                                 N_l1 = candidates[k[1]][0],\\\n",
    "                                 N_l2 = candidates[k[1]][1],\\\n",
    "                                 N1 = stratum_sizes[0],\\\n",
    "                                 N2 = stratum_sizes[1],\\\n",
    "                                 o1_rate = o1_rate,\\\n",
    "                                 o2_rate = o2_rate,\\\n",
    "                                 u1_rate = u1_rate,\\\n",
    "                                 u2_rate = u2_rate,\\\n",
    "                                 n_ratio = n_ratio,\\\n",
    "                                 risk_limit = risk_limit,\\\n",
    "                                 gamma = gamma,\\\n",
    "                                 stepsize = lambda_step,\\\n",
    "                                 min_n = 5,\\\n",
    "                                 risk_limit_tol = 0.8)"
   ]
  },
  {
   "cell_type": "code",
   "execution_count": 11,
   "metadata": {
    "collapsed": false,
    "scrolled": true
   },
   "outputs": [
    {
     "name": "stdout",
     "output_type": "stream",
     "text": [
      "estimated sample sizes for each contest, written as (cvr stratum, no-cvr stratum):\n",
      "\n",
      "{('Whitmer', 'Butkovich'): (5, 17),\n",
      " ('Whitmer', 'Gelineau'): (4, 15),\n",
      " ('Whitmer', 'Kurland'): (4, 15),\n",
      " ('Whitmer', 'Schleiger'): (4, 16),\n",
      " ('Whitmer', 'Schuette'): (7, 26)}\n",
      "\n",
      "\n",
      "expected total sample size needed to confirm all pairs: 33\n"
     ]
    }
   ],
   "source": [
    "sample_size = np.amax([v[0]+v[1] for v in sample_sizes.values()])\n",
    "\n",
    "print(\"estimated sample sizes for each contest, written as (cvr stratum, no-cvr stratum):\\n\")\n",
    "pprint.pprint(sample_sizes)\n",
    "print('\\n\\nexpected total sample size needed to confirm all pairs:', sample_size)"
   ]
  },
  {
   "cell_type": "code",
   "execution_count": 12,
   "metadata": {
    "collapsed": false
   },
   "outputs": [
    {
     "name": "stdout",
     "output_type": "stream",
     "text": [
      "\n",
      "\n",
      "expected minimum sample size that would be needed using ballot polling ONLY, for all ballots: 25\n"
     ]
    }
   ],
   "source": [
    "check_polling_sample_size(candidates, winners, losers, stratum_sizes, risk_limit)"
   ]
  },
  {
   "cell_type": "code",
   "execution_count": null,
   "metadata": {
    "collapsed": false
   },
   "outputs": [],
   "source": [
    "# Run this cell to plot the total size as a function of n_ratio\n",
    "\n",
    "#plot_nratio_sample_sizes(candidates, winners, losers, stratum_sizes, n_ratio_step=0.05, o1_rate=o1_rate)"
   ]
  },
  {
   "cell_type": "markdown",
   "metadata": {},
   "source": [
    "# Random sampling"
   ]
  },
  {
   "cell_type": "markdown",
   "metadata": {},
   "source": [
    "The next tool helps generate pseudo-random samples of ballots in each stratum. Further below, there is a form to help find the individual, randomly selected ballots among the batches in which ballots are stored.\n",
    "\n",
    "The first cell below initializes the SHA-256 cryptographically secure pseudo-random number generator. Details on why you might want to use this pseudo-random number generator instead of the Python default can be found in [Stark and Ottoboni (2018)](https://arxiv.org/abs/1810.10985). \n",
    "\n",
    "Input your desired sample sizes in the second cell below. Input the number of ballots you want in the sample. The default values that are pre-filled are taken from the initial sample size estimates above. \n",
    "\n",
    "The third cell should not be modified. It draws the samples from each stratum, using sampling _with_ replacement for the CVR stratum and sampling _without_ replacement for the no-CVR stratum. This means that some ballots in the CVR stratum could be sampled more than once.\n",
    "\n",
    "\n",
    "**NOTE:**\n",
    "If this section is giving errors, you probably need to update your version of `cryptorandom`.\n",
    "\n",
    "```\n",
    "pip install [--update] cryptorandom\n",
    "```"
   ]
  },
  {
   "cell_type": "code",
   "execution_count": 13,
   "metadata": {
    "collapsed": true
   },
   "outputs": [],
   "source": [
    "# initialize the PRNG\n",
    "prng = SHA256(seed)   "
   ]
  },
  {
   "cell_type": "code",
   "execution_count": 14,
   "metadata": {
    "collapsed": true
   },
   "outputs": [],
   "source": [
    "# Input the sample sizes for each stratum. \n",
    "# Defaults to those found using the initial sample size tool above.\n",
    "sample_size=40\n",
    "n1 = math.ceil(sample_size*n_ratio)    \n",
    "n2 = sample_size-n1"
   ]
  },
  {
   "cell_type": "code",
   "execution_count": 15,
   "metadata": {
    "collapsed": true
   },
   "outputs": [],
   "source": [
    "# CVR stratum initial sample size, sampled with replacement\n",
    "sample1 = prng.randint(1, stratum_sizes[0]+1, size=n1)\n",
    "\n",
    "# No-CVR ballots are sampled without replacement\n",
    "sample2 = random_sample(stratum_sizes[1], size=n2, replace=False, prng=prng)"
   ]
  },
  {
   "cell_type": "markdown",
   "metadata": {},
   "source": [
    "### CVR stratum sample"
   ]
  },
  {
   "cell_type": "code",
   "execution_count": 16,
   "metadata": {
    "collapsed": false
   },
   "outputs": [
    {
     "name": "stdout",
     "output_type": "stream",
     "text": [
      "CVR stratum sample:\n",
      " [ 384  355 1643 2235  304  248 4083   13]\n"
     ]
    }
   ],
   "source": [
    "print(\"CVR stratum sample:\\n\", sample1)"
   ]
  },
  {
   "cell_type": "code",
   "execution_count": 17,
   "metadata": {
    "collapsed": false
   },
   "outputs": [
    {
     "name": "stdout",
     "output_type": "stream",
     "text": [
      "CVR stratum repeated ballots:\n",
      " []\n"
     ]
    }
   ],
   "source": [
    "m = np.zeros_like(sample1, dtype=bool)\n",
    "m[np.unique(sample1, return_index=True)[1]] = True\n",
    "print(\"CVR stratum repeated ballots:\\n\", sample1[~m])"
   ]
  },
  {
   "cell_type": "markdown",
   "metadata": {},
   "source": [
    "### No-CVR sample"
   ]
  },
  {
   "cell_type": "code",
   "execution_count": 18,
   "metadata": {
    "collapsed": false
   },
   "outputs": [
    {
     "name": "stdout",
     "output_type": "stream",
     "text": [
      "No-CVR stratum sample:\n",
      " [18974 11478  3354  4398  5119  2626   505 22154 21336 10686  1692  7905\n",
      "  1523 11934 12023 16401  7456 21126  9859  5981  9805  2274  4079  8378\n",
      "  5003  2627 19076  2137  6040 15616 10212  5649]\n"
     ]
    }
   ],
   "source": [
    "print(\"No-CVR stratum sample:\\n\", sample2)"
   ]
  },
  {
   "cell_type": "markdown",
   "metadata": {},
   "source": [
    "# Find ballots using ballot manifest\n",
    "\n",
    "Generally, ballots will be stored in batches, for instance, separated by precinct and mode of voting. To make it easier to find individual ballots, it helps to have a ballot manifest that describes how the ballots are stored. \n",
    "\n",
    "\n",
    "Batch label\t| ballots\n",
    "--- |  ---\n",
    "Polling place precinct 1  |\t130\n",
    "Vote by mail precinct 1\t  | 172\n",
    "Polling place precinct 2  | 112\n",
    "Vote by mail precinct 2\t  | 201\n",
    "Polling place precinct 3  | 197\n",
    "Vote by mail precinct 3   | 188\n",
    "\n",
    "If ballot 500 is selected for audit, which ballot is that? If we take the listing of batches in the order given by the manifest, and we require that within each batch, the ballots are in an order that does not change during the audit, then the 500th ballot is the 86th ballot among the vote by mail ballots for precinct 2: The first three batches have a total of 130+172+112 = 414 ballots. The first ballot in the fourth batch is ballot 415. Ballot 500 is the 86th ballot in the fourth batch. The ballot look-up tool transforms a list of ballot numbers and a ballot manifest into a list of ballots in each batch.\n",
    "\n",
    "There must be separate ballot manifests for ballots in the CVR stratum and for ballots in the no-CVR stratum. The manifests should be input as a CSV file with three columns: Batch ID, Scanner ID, and number of ballots.\n",
    "\n",
    "The total number of ballots in the manifest must equal the number cast in the contest that is to be audited using the sample."
   ]
  },
  {
   "cell_type": "code",
   "execution_count": 19,
   "metadata": {
    "collapsed": false
   },
   "outputs": [],
   "source": [
    "cvr_sample =  sample_from_manifest(filename=\"../data/City of Kalamazoo Ballot Manifest - Absentee.csv\", \\\n",
    "                                   sample=sample1, \\\n",
    "                                   stratum_size=stratum_sizes[0])\n"
   ]
  },
  {
   "cell_type": "code",
   "execution_count": 20,
   "metadata": {
    "collapsed": false
   },
   "outputs": [
    {
     "name": "stdout",
     "output_type": "stream",
     "text": [
      "succesfully wrote sampled ballots to ../log/kalamazoo-sampled-absentee.csv\n"
     ]
    }
   ],
   "source": [
    "write_ballots_to_sample(\"../log/kalamazoo-sampled-absentee.csv\", cvr_sample)"
   ]
  },
  {
   "cell_type": "code",
   "execution_count": 21,
   "metadata": {
    "collapsed": false
   },
   "outputs": [
    {
     "name": "stdout",
     "output_type": "stream",
     "text": [
      "CVR sample\n"
     ]
    },
    {
     "data": {
      "text/html": [
       "<table><tr><td>sampled ballot</td><td>batch label</td><td>which ballot in batch</td><td># times sampled</td></tr><tr><td>13</td><td>Absentee 1</td><td>13</td><td>1</td></tr><tr><td>1643</td><td>Absentee 10</td><td>304</td><td>1</td></tr><tr><td>2235</td><td>Absentee 14</td><td>70</td><td>1</td></tr><tr><td>248</td><td>Absentee 2</td><td>77</td><td>1</td></tr><tr><td>4083</td><td>Absentee 22</td><td>164</td><td>1</td></tr><tr><td>304</td><td>Absentee 3</td><td>52</td><td>1</td></tr><tr><td>355</td><td>Absentee 4</td><td>2</td><td>1</td></tr><tr><td>384</td><td>Absentee 5</td><td>1</td><td>1</td></tr></table>"
      ],
      "text/plain": [
       "<IPython.core.display.HTML object>"
      ]
     },
     "metadata": {},
     "output_type": "display_data"
    }
   ],
   "source": [
    "print(\"CVR sample\")\n",
    "display(HTML(\n",
    "    '<table><tr>{}</tr></table>'.format(\n",
    "        '</tr><tr>'.join(\n",
    "            '<td>{}</td>'.format('</td><td>'.join(str(_) for _ in row)) for row in cvr_sample)\n",
    "        )\n",
    " ))"
   ]
  },
  {
   "cell_type": "code",
   "execution_count": 22,
   "metadata": {
    "collapsed": false
   },
   "outputs": [],
   "source": [
    "nocvr_sample =  sample_from_manifest(filename=\"../data/City of Kalamazoo Ballot Manifest - Election Day.csv\", \\\n",
    "                                   sample=sample2, \\\n",
    "                                   stratum_size=stratum_sizes[1])\n"
   ]
  },
  {
   "cell_type": "code",
   "execution_count": 23,
   "metadata": {
    "collapsed": false
   },
   "outputs": [
    {
     "name": "stdout",
     "output_type": "stream",
     "text": [
      "succesfully wrote sampled ballots to ../log/Kalamazoo-sampled-election-day.csv\n"
     ]
    }
   ],
   "source": [
    "write_ballots_to_sample(\"../log/Kalamazoo-sampled-election-day.csv\", nocvr_sample)"
   ]
  },
  {
   "cell_type": "code",
   "execution_count": 24,
   "metadata": {
    "collapsed": false,
    "scrolled": true
   },
   "outputs": [
    {
     "name": "stdout",
     "output_type": "stream",
     "text": [
      "No CVR sample\n"
     ]
    },
    {
     "data": {
      "text/html": [
       "<table><tr><td>sampled ballot</td><td>batch label</td><td>which ballot in batch</td><td># times sampled</td></tr><tr><td>505</td><td>Precinct 1</td><td>505</td><td>1</td></tr><tr><td>8378</td><td>Precinct 10</td><td>221</td><td>1</td></tr><tr><td>9805</td><td>Precinct 12</td><td>160</td><td>1</td></tr><tr><td>9859</td><td>Precinct 12</td><td>214</td><td>1</td></tr><tr><td>10212</td><td>Precinct 12</td><td>567</td><td>1</td></tr><tr><td>10686</td><td>Precinct 13</td><td>59</td><td>1</td></tr><tr><td>11478</td><td>Precinct 14</td><td>360</td><td>1</td></tr><tr><td>11934</td><td>Precinct 15</td><td>329</td><td>1</td></tr><tr><td>12023</td><td>Precinct 15</td><td>418</td><td>1</td></tr><tr><td>15616</td><td>Precinct 19</td><td>413</td><td>1</td></tr><tr><td>1523</td><td>Precinct 2</td><td>793</td><td>1</td></tr><tr><td>1692</td><td>Precinct 2</td><td>962</td><td>1</td></tr><tr><td>2137</td><td>Precinct 2</td><td>1407</td><td>1</td></tr><tr><td>2274</td><td>Precinct 2</td><td>1544</td><td>1</td></tr><tr><td>16401</td><td>Precinct 20</td><td>208</td><td>1</td></tr><tr><td>18974</td><td>Precinct 22</td><td>791</td><td>1</td></tr><tr><td>19076</td><td>Precinct 22</td><td>893</td><td>1</td></tr><tr><td>21126</td><td>Precinct 26</td><td>111</td><td>1</td></tr><tr><td>21336</td><td>Precinct 26</td><td>321</td><td>1</td></tr><tr><td>22154</td><td>Precinct 27</td><td>292</td><td>1</td></tr><tr><td>2626</td><td>Precinct 3</td><td>318</td><td>1</td></tr><tr><td>2627</td><td>Precinct 3</td><td>319</td><td>1</td></tr><tr><td>3354</td><td>Precinct 4</td><td>91</td><td>1</td></tr><tr><td>4079</td><td>Precinct 5</td><td>207</td><td>1</td></tr><tr><td>4398</td><td>Precinct 5</td><td>526</td><td>1</td></tr><tr><td>5003</td><td>Precinct 5</td><td>1131</td><td>1</td></tr><tr><td>5119</td><td>Precinct 5</td><td>1247</td><td>1</td></tr><tr><td>5649</td><td>Precinct 6</td><td>498</td><td>1</td></tr><tr><td>5981</td><td>Precinct 6</td><td>830</td><td>1</td></tr><tr><td>6040</td><td>Precinct 7</td><td>54</td><td>1</td></tr><tr><td>7456</td><td>Precinct 8</td><td>595</td><td>1</td></tr><tr><td>7905</td><td>Precinct 9</td><td>428</td><td>1</td></tr></table>"
      ],
      "text/plain": [
       "<IPython.core.display.HTML object>"
      ]
     },
     "metadata": {},
     "output_type": "display_data"
    }
   ],
   "source": [
    "print(\"No CVR sample\")\n",
    "display(HTML(\n",
    "    '<table><tr>{}</tr></table>'.format(\n",
    "        '</tr><tr>'.join(\n",
    "            '<td>{}</td>'.format('</td><td>'.join(str(_) for _ in row)) for row in nocvr_sample)\n",
    "        )\n",
    " ))"
   ]
  },
  {
   "cell_type": "markdown",
   "metadata": {},
   "source": [
    "# Enter the sample data\n",
    "\n",
    "The audit cannot stop until **all** the sampled ballots have been examined."
   ]
  },
  {
   "cell_type": "markdown",
   "metadata": {},
   "source": [
    "## Sample statistics for the CVR stratum (stratum 1)\n",
    "\n",
    "Enter the number of 1-vote and 2-vote over-/understatements that were observed in the sample using the sliders below, then run the cell beneath the sliders to store the values."
   ]
  },
  {
   "cell_type": "code",
   "execution_count": 25,
   "metadata": {
    "collapsed": false
   },
   "outputs": [
    {
     "name": "stdout",
     "output_type": "stream",
     "text": [
      "The sample size in the CVR stratum was 8\n"
     ]
    }
   ],
   "source": [
    "print(\"The sample size in the CVR stratum was\", n1)"
   ]
  },
  {
   "cell_type": "code",
   "execution_count": 26,
   "metadata": {
    "collapsed": false
   },
   "outputs": [
    {
     "data": {
      "text/plain": [
       "(0, 0, 0, 0)"
      ]
     },
     "metadata": {},
     "output_type": "display_data"
    }
   ],
   "source": [
    "def cvr_audit_inputs(o1, o2, u1, u2):\n",
    "    return (o1, o2, u1, u2)\n",
    "\n",
    "cvr_stats = interactive(cvr_audit_inputs,\n",
    "                             o1 = widgets.IntSlider(min=0,max=n1,value=0),\n",
    "                             u1 = widgets.IntSlider(min=0,max=n1,value=0),\n",
    "                             o2 = widgets.IntSlider(min=0,max=n1,value=0),\n",
    "                             u2 = widgets.IntSlider(min=0,max=n1,value=0))\n",
    "display(cvr_stats)"
   ]
  },
  {
   "cell_type": "code",
   "execution_count": 27,
   "metadata": {
    "collapsed": false
   },
   "outputs": [],
   "source": [
    "(o1, o2, u1, u2) = [cvr_stats.children[i].value for i in range(4)]"
   ]
  },
  {
   "cell_type": "markdown",
   "metadata": {},
   "source": [
    "## Sample statistics for the no-CVR stratum (stratum 2)\n",
    "\n",
    "Enter the number of ballots for each candidate that were observed in the sample using the sliders below, then run the cell beneath the sliders to store the values."
   ]
  },
  {
   "cell_type": "code",
   "execution_count": 28,
   "metadata": {
    "collapsed": false
   },
   "outputs": [
    {
     "name": "stdout",
     "output_type": "stream",
     "text": [
      "The sample size in the no-CVR stratum was 32\n"
     ]
    }
   ],
   "source": [
    "print(\"The sample size in the no-CVR stratum was\", n2)"
   ]
  },
  {
   "cell_type": "code",
   "execution_count": 29,
   "metadata": {
    "collapsed": false
   },
   "outputs": [],
   "source": [
    "nocvr_widgets=[]\n",
    "\n",
    "# create the widgets\n",
    "for name in candidates.keys():\n",
    "    nocvr_widgets.append(widgets.IntSlider(value=0,min=0,max=n2,description=name))\n",
    "\n",
    "# group the widgets into a FlexBox\n",
    "nocvr_audit_inputs = widgets.VBox(children=nocvr_widgets)\n",
    "\n",
    "# display the widgets\n",
    "display(nocvr_audit_inputs)"
   ]
  },
  {
   "cell_type": "code",
   "execution_count": 30,
   "metadata": {
    "collapsed": false
   },
   "outputs": [
    {
     "name": "stdout",
     "output_type": "stream",
     "text": [
      "{'Butkovich': 0,\n",
      " 'Gelineau': 1,\n",
      " 'Kurland': 0,\n",
      " 'Schleiger': 0,\n",
      " 'Schuette': 8,\n",
      " 'Whitmer': 23}\n"
     ]
    }
   ],
   "source": [
    "# no-CVR sample is stored in a dict with name, votes in the sample\n",
    "\n",
    "observed_poll = {}\n",
    "for widget in nocvr_widgets:\n",
    "    observed_poll[widget.description] = widget.value\n",
    "\n",
    "assert np.sum(list(observed_poll.values())) <= n2, \"Too many ballots input\"\n",
    "pprint.pprint(observed_poll)"
   ]
  },
  {
   "cell_type": "markdown",
   "metadata": {},
   "source": [
    "# What's the risk for this sample?\n",
    "\n",
    "The audit looks at every (winner, loser) pair in each contest. Auditing continues until there is strong evidence that every winner in a contest got more votes than every loser in the contest. It does this by considering (winner, loser) pairs. The SUITE risk for every pair will appear beneath the cell below after it is run. The audit continues until all the numbers are not larger than the risk limit. E.g., if the risk limit is 10%, the audit stops when the numbers in the table are all less than 0.1."
   ]
  },
  {
   "cell_type": "code",
   "execution_count": 31,
   "metadata": {
    "collapsed": false
   },
   "outputs": [
    {
     "name": "stdout",
     "output_type": "stream",
     "text": [
      "{('Whitmer', 'Butkovich'): 1.3006510990454245e-07,\n",
      " ('Whitmer', 'Gelineau'): 2.996648389208545e-06,\n",
      " ('Whitmer', 'Kurland'): 1.8942156698731338e-07,\n",
      " ('Whitmer', 'Schleiger'): 1.432634995079951e-07,\n",
      " ('Whitmer', 'Schuette'): 0.03741402419787909}\n"
     ]
    }
   ],
   "source": [
    "# Find audit p-values across (winner, loser) pairs\n",
    "\n",
    "audit_pvalues = audit_contest(candidates, winners, losers, stratum_sizes, \\\n",
    "                  n1, n2, o1, o2, u1, u2, observed_poll, \\\n",
    "                  risk_limit=risk_limit, gamma=gamma, stepsize=lambda_step)\n",
    "pprint.pprint(audit_pvalues)"
   ]
  },
  {
   "cell_type": "code",
   "execution_count": null,
   "metadata": {
    "collapsed": false
   },
   "outputs": [],
   "source": [
    "# Track contests not yet confirmed\n",
    "\n",
    "contests_not_yet_confirmed = [i[0] for i in audit_pvalues.items() \\\n",
    "                              if i[1]>risk_limit]\n",
    "print(\"Pairs not yet confirmed:\\n\", contests_not_yet_confirmed)\n",
    "\n",
    "winners_not_yet_confirmed = list(set(list(map(lambda x: x[0], contests_not_yet_confirmed))))\n",
    "losers_not_yet_confirmed = list(set(list(map(lambda x: x[1], contests_not_yet_confirmed))))"
   ]
  },
  {
   "cell_type": "code",
   "execution_count": null,
   "metadata": {
    "collapsed": false
   },
   "outputs": [],
   "source": [
    "# Save everything to file, you may change the file name in quotes\n",
    "\n",
    "\n",
    "write_audit_results(\"../log/kalamazoo_audit_results.json\", \\\n",
    "                        n1, n2, sample1, sample2, \\\n",
    "                        o1, o2, u1, u2, observed_poll, \\\n",
    "                        audit_pvalues, prng.getstate())"
   ]
  },
  {
   "cell_type": "markdown",
   "metadata": {},
   "source": [
    "# Escalation guidance: how many more ballots should be drawn?\n",
    "\n",
    "This tool estimates how many more ballots should be examined to confirm any remaining contests. The enlarged sample size is based on the following:\n",
    "* ballots that have already been sampled\n",
    "* assumption that we will continue to see overstatements and understatements at the same rate that they've been observed in the sample so far\n",
    "* assumption that vote proportions in the ballot-polling stratum will reflect the reported proportions\n",
    "\n",
    "Given these additional numbers, return to the sampling tool and draw additional ballots, find them with the ballot manifest tool, update the observed sample values, and rerun the SUITE risk calculations. Additional code cells to do this are included below."
   ]
  },
  {
   "cell_type": "code",
   "execution_count": null,
   "metadata": {
    "collapsed": false
   },
   "outputs": [],
   "source": [
    "sample_sizes_new = {}\n",
    "\n",
    "# Add a reminder note about the candidate dict structure.\n",
    "\n",
    "for k in contests_not_yet_confirmed:\n",
    "    sample_sizes_new[k] = estimate_escalation_n(\\\n",
    "                                 N_w1 = candidates[k[0]][0],\\\n",
    "                                 N_w2 = candidates[k[0]][1],\\\n",
    "                                 N_l1 = candidates[k[1]][0],\\\n",
    "                                 N_l2 = candidates[k[1]][1],\\\n",
    "                                 N1 = stratum_sizes[0],\\\n",
    "                                 N2 = stratum_sizes[1],\\\n",
    "                                 n1 = n1,\\\n",
    "                                 n2 = n2,\\\n",
    "                                 o1_obs = o1,\\\n",
    "                                 o2_obs = o2,\\\n",
    "                                 u1_obs = u1,\\\n",
    "                                 u2_obs = u2,\\\n",
    "                                 n2l_obs = observed_poll[k[1]],\\\n",
    "                                 n2w_obs = observed_poll[k[0]],\\\n",
    "                                 n_ratio = n_ratio,\\\n",
    "                                 risk_limit = risk_limit,\\\n",
    "                                 gamma = gamma,\\\n",
    "                                 stepsize = lambda_step,\n",
    "                                 risk_limit_tol = 0.8)"
   ]
  },
  {
   "cell_type": "code",
   "execution_count": null,
   "metadata": {
    "collapsed": false
   },
   "outputs": [],
   "source": [
    "sample_size_new = np.amax([v[0]+v[1] for v in sample_sizes_new.values()])\n",
    "n1_new = np.amax([v[0] for v in sample_sizes_new.values()])\n",
    "n2_new = np.amax([v[1] for v in sample_sizes_new.values()])\n",
    "\n",
    "\n",
    "print(\"estimated sample sizes for each contest, written as (cvr stratum, no-cvr stratum):\\n\")\n",
    "pprint.pprint(sample_sizes_new)\n",
    "print('\\n\\nexpected total sample size needed to confirm remaining pairs:', sample_size_new)\n",
    "print(\"\\nDraw this many additional ballots in the CVR stratum:\", n1_new - n1)\n",
    "print(\"Draw this many additional ballots in the no-CVR stratum:\", n2_new - n2)"
   ]
  },
  {
   "cell_type": "markdown",
   "metadata": {
    "collapsed": false
   },
   "source": [
    "# Draw additional ballots"
   ]
  },
  {
   "cell_type": "code",
   "execution_count": null,
   "metadata": {
    "collapsed": false
   },
   "outputs": [],
   "source": [
    "# print the current state of the PRNG after drawing the initial samples\n",
    "print(prng) "
   ]
  },
  {
   "cell_type": "code",
   "execution_count": null,
   "metadata": {
    "collapsed": false
   },
   "outputs": [],
   "source": [
    "# CVR stratum sample size, sampled with replacement\n",
    "sample1 = prng.randint(1, stratum_sizes[0]+1, size=n1_new - n1)\n",
    "\n",
    "# No-CVR ballots are sampled without replacement\n",
    "remaining_ballots = [i for i in range(stratum_sizes[1]) if i not in sample2]\n",
    "sample2 = random_sample(remaining_ballots, size=n2_new - n2, replace=False, prng=prng)"
   ]
  },
  {
   "cell_type": "markdown",
   "metadata": {},
   "source": [
    "### CVR stratum sample"
   ]
  },
  {
   "cell_type": "code",
   "execution_count": null,
   "metadata": {
    "collapsed": false
   },
   "outputs": [],
   "source": [
    "print(\"CVR stratum sample:\\n\", sample1)"
   ]
  },
  {
   "cell_type": "code",
   "execution_count": null,
   "metadata": {
    "collapsed": false
   },
   "outputs": [],
   "source": [
    "m = np.zeros_like(sample1, dtype=bool)\n",
    "m[np.unique(sample1, return_index=True)[1]] = True\n",
    "print(\"CVR stratum repeated ballots:\\n\", sample1[~m])"
   ]
  },
  {
   "cell_type": "markdown",
   "metadata": {},
   "source": [
    "### No-CVR sample"
   ]
  },
  {
   "cell_type": "code",
   "execution_count": null,
   "metadata": {
    "collapsed": false
   },
   "outputs": [],
   "source": [
    "print(\"No-CVR stratum sample:\\n\", sample2)"
   ]
  },
  {
   "cell_type": "markdown",
   "metadata": {},
   "source": [
    "# Find ballots using ballot manifest"
   ]
  },
  {
   "cell_type": "code",
   "execution_count": null,
   "metadata": {
    "collapsed": false
   },
   "outputs": [],
   "source": [
    "cvr_sample = sample_from_manifest(filename=\"../data/City of Kalamazoo Ballot Manifest - Absentee.csv\", \\\n",
    "                                   sample=sample1, \\\n",
    "                                   stratum_size=stratum_sizes[0])\n"
   ]
  },
  {
   "cell_type": "code",
   "execution_count": null,
   "metadata": {
    "collapsed": true
   },
   "outputs": [],
   "source": [
    "write_ballots_to_sample(\"../log/kalamazoo-sampled-absentee_2.csv\", cvr_sample)"
   ]
  },
  {
   "cell_type": "code",
   "execution_count": null,
   "metadata": {
    "collapsed": false
   },
   "outputs": [],
   "source": [
    "print(\"CVR sample\")\n",
    "display(HTML(\n",
    "    '<table><tr>{}</tr></table>'.format(\n",
    "        '</tr><tr>'.join(\n",
    "            '<td>{}</td>'.format('</td><td>'.join(str(_) for _ in row)) for row in cvr_sample)\n",
    "        )\n",
    " ))"
   ]
  },
  {
   "cell_type": "code",
   "execution_count": null,
   "metadata": {
    "collapsed": false
   },
   "outputs": [],
   "source": [
    "nocvr_sample =  sample_from_manifest(filename=\"../data/City of Lansing Ballot Manifest - Election Day.csv\", \\\n",
    "                                   sample=sample2, \\\n",
    "                                   stratum_size=stratum_sizes[1])\n"
   ]
  },
  {
   "cell_type": "code",
   "execution_count": null,
   "metadata": {
    "collapsed": true
   },
   "outputs": [],
   "source": [
    "write_ballots_to_sample(\"../log/kalamazoo-sampled-election_day_2.csv\", nocvr_sample)"
   ]
  },
  {
   "cell_type": "code",
   "execution_count": null,
   "metadata": {
    "collapsed": false,
    "scrolled": true
   },
   "outputs": [],
   "source": [
    "print(\"No CVR sample\")\n",
    "display(HTML(\n",
    "    '<table><tr>{}</tr></table>'.format(\n",
    "        '</tr><tr>'.join(\n",
    "            '<td>{}</td>'.format('</td><td>'.join(str(_) for _ in row)) for row in nocvr_sample)\n",
    "        )\n",
    " ))"
   ]
  },
  {
   "cell_type": "markdown",
   "metadata": {},
   "source": [
    "# Enter the data from the *combined* sample"
   ]
  },
  {
   "cell_type": "markdown",
   "metadata": {},
   "source": [
    "## Sample statistics for the CVR stratum (stratum 1).\n",
    "Update the numbers below to include what was seen in the initial sample PLUS what was seen in the new sample."
   ]
  },
  {
   "cell_type": "code",
   "execution_count": null,
   "metadata": {
    "collapsed": false
   },
   "outputs": [],
   "source": [
    "print(\"The initial sample size in the CVR stratum was\", n1, \\\n",
    "      \"and the new sample size was\", n1_new)\n",
    "print(\"The observed overstatements and understatements from the original sample were\")\n",
    "pprint.pprint({\"o1\" : o1, \"o2\" : o2, \"u1\" : u1, \"u2\" : u2})"
   ]
  },
  {
   "cell_type": "code",
   "execution_count": null,
   "metadata": {
    "collapsed": false
   },
   "outputs": [],
   "source": [
    "# Number of observed...\n",
    "\n",
    "def cvr_audit_inputs(o1, o2, u1, u2):\n",
    "    return (o1, o2, u1, u2)\n",
    "\n",
    "cvr_stats = interactive(cvr_audit_inputs,\n",
    "                             o1 = widgets.IntSlider(min=0,max=n1_new,value=0),\n",
    "                             u1 = widgets.IntSlider(min=0,max=n1_new,value=0),\n",
    "                             o2 = widgets.IntSlider(min=0,max=n1_new,value=0),\n",
    "                             u2 = widgets.IntSlider(min=0,max=n1_new,value=0))\n",
    "display(cvr_stats)"
   ]
  },
  {
   "cell_type": "code",
   "execution_count": null,
   "metadata": {
    "collapsed": false
   },
   "outputs": [],
   "source": [
    "(o1, o2, u1, u2) = [cvr_stats.children[i].value for i in range(4)]"
   ]
  },
  {
   "cell_type": "markdown",
   "metadata": {},
   "source": [
    "## Sample statistics for the no-CVR stratum (stratum 2)\n",
    "Update the numbers below to include what was seen in the initial sample PLUS what was seen in the new sample."
   ]
  },
  {
   "cell_type": "code",
   "execution_count": null,
   "metadata": {
    "collapsed": false
   },
   "outputs": [],
   "source": [
    "print(\"The initial sample size in the no-CVR stratum was\", n2, \\\n",
    "      \"and the new sample size was\", n2_new)\n",
    "print(\"The observed tallies from the original sample were\")\n",
    "pprint.pprint(observed_poll)"
   ]
  },
  {
   "cell_type": "code",
   "execution_count": null,
   "metadata": {
    "collapsed": false
   },
   "outputs": [],
   "source": [
    "nocvr_widgets=[]\n",
    "\n",
    "# create the widgets\n",
    "for name in candidates.keys():\n",
    "    nocvr_widgets.append(widgets.IntSlider(value=0,min=0,max=n2_new,description=name))\n",
    "\n",
    "# group the widgets into a FlexBox\n",
    "nocvr_audit_inputs = widgets.VBox(children=nocvr_widgets)\n",
    "\n",
    "# display the widgets\n",
    "display(nocvr_audit_inputs)"
   ]
  },
  {
   "cell_type": "code",
   "execution_count": null,
   "metadata": {
    "collapsed": false
   },
   "outputs": [],
   "source": [
    "# no-CVR sample is stored in a dict with name, votes in the sample\n",
    "\n",
    "observed_poll = {}\n",
    "for widget in nocvr_widgets:\n",
    "    observed_poll[widget.description] = widget.value\n",
    "\n",
    "assert np.sum(list(observed_poll.values())) <= n2_new, \"Too many ballots input\"\n",
    "pprint.pprint(observed_poll)\n"
   ]
  },
  {
   "cell_type": "markdown",
   "metadata": {},
   "source": [
    "# What's the risk for this sample?\n",
    "\n",
    "The audit looks at every (winner, loser) pair in each contest. Auditing continues until there is strong evidence that every winner in a contest got more votes than every loser in the contest. It does this by considering (winner, loser) pairs. The SUITE risk for every pair will appear beneath the cell below after it is run. The audit continues until all the numbers are not larger than the risk limit. E.g., if the risk limit is 10%, the audit stops when the numbers in the table are all less than 0.1."
   ]
  },
  {
   "cell_type": "code",
   "execution_count": null,
   "metadata": {
    "collapsed": false
   },
   "outputs": [],
   "source": [
    "# Find audit p-values across (winner, loser) pairs\n",
    "\n",
    "audit_pvalues = audit_contest(candidates, winners_not_yet_confirmed, \\\n",
    "                              losers_not_yet_confirmed, stratum_sizes, \\\n",
    "                              n1_new, n2_new, o1, o2, u1, u2, observed_poll, \\\n",
    "                              risk_limit=risk_limit, gamma=gamma, stepsize=lambda_step)\n",
    "pprint.pprint(audit_pvalues)"
   ]
  },
  {
   "cell_type": "code",
   "execution_count": null,
   "metadata": {
    "collapsed": false
   },
   "outputs": [],
   "source": [
    "# Track contests not yet confirmed\n",
    "\n",
    "contests_not_yet_confirmed = [i[0] for i in audit_pvalues.items() \\\n",
    "                              if i[1]>risk_limit]\n",
    "print(\"Pairs not yet confirmed:\\n\", contests_not_yet_confirmed)"
   ]
  },
  {
   "cell_type": "code",
   "execution_count": null,
   "metadata": {
    "collapsed": false
   },
   "outputs": [],
   "source": [
    "# Save everything to file, you may change the file name in quotes\n",
    "\n",
    "write_audit_results(\"../log/kalamazoo_audit_results2.json\", \\\n",
    "                        n1_new, n2_new, sample1, sample2, \\\n",
    "                        o1, o2, u1, u2, observed_poll, \\\n",
    "                        audit_pvalues, prng.getstate())"
   ]
  }
 ],
 "metadata": {
  "kernelspec": {
   "display_name": "Python 3",
   "language": "python",
   "name": "python3"
  },
  "language_info": {
   "codemirror_mode": {
    "name": "ipython",
    "version": 3
   },
   "file_extension": ".py",
   "mimetype": "text/x-python",
   "name": "python",
   "nbconvert_exporter": "python",
   "pygments_lexer": "ipython3",
   "version": "3.4.3"
  },
  "widgets": {
   "state": {
    "d478066b87e6458db04149479431ec1b": {
     "views": [
      {
       "cell_index": 39
      }
     ]
    },
    "ea958361073f467e8eb03e1690853829": {
     "views": [
      {
       "cell_index": 43
      }
     ]
    }
   },
   "version": "1.2.0"
  }
 },
 "nbformat": 4,
 "nbformat_minor": 2
}
